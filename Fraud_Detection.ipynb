{
 "cells": [
  {
   "cell_type": "code",
   "execution_count": 1,
   "id": "ce15ab33",
   "metadata": {},
   "outputs": [],
   "source": [
    "import numpy as np\n",
    "import pandas as pd"
   ]
  },
  {
   "cell_type": "markdown",
   "id": "920fa247",
   "metadata": {},
   "source": [
    "# DATA PREPROCESSING"
   ]
  },
  {
   "cell_type": "code",
   "execution_count": 2,
   "id": "af53764d",
   "metadata": {},
   "outputs": [],
   "source": [
    "data = pd.read_csv(\"Fraud.csv\")"
   ]
  },
  {
   "cell_type": "code",
   "execution_count": 3,
   "id": "2d0d7b39",
   "metadata": {},
   "outputs": [
    {
     "data": {
      "text/html": [
       "<div>\n",
       "<style scoped>\n",
       "    .dataframe tbody tr th:only-of-type {\n",
       "        vertical-align: middle;\n",
       "    }\n",
       "\n",
       "    .dataframe tbody tr th {\n",
       "        vertical-align: top;\n",
       "    }\n",
       "\n",
       "    .dataframe thead th {\n",
       "        text-align: right;\n",
       "    }\n",
       "</style>\n",
       "<table border=\"1\" class=\"dataframe\">\n",
       "  <thead>\n",
       "    <tr style=\"text-align: right;\">\n",
       "      <th></th>\n",
       "      <th>step</th>\n",
       "      <th>type</th>\n",
       "      <th>amount</th>\n",
       "      <th>nameOrig</th>\n",
       "      <th>oldbalanceOrg</th>\n",
       "      <th>newbalanceOrig</th>\n",
       "      <th>nameDest</th>\n",
       "      <th>oldbalanceDest</th>\n",
       "      <th>newbalanceDest</th>\n",
       "      <th>isFraud</th>\n",
       "      <th>isFlaggedFraud</th>\n",
       "    </tr>\n",
       "  </thead>\n",
       "  <tbody>\n",
       "    <tr>\n",
       "      <th>0</th>\n",
       "      <td>1</td>\n",
       "      <td>PAYMENT</td>\n",
       "      <td>9839.64</td>\n",
       "      <td>C1231006815</td>\n",
       "      <td>170136.00</td>\n",
       "      <td>160296.36</td>\n",
       "      <td>M1979787155</td>\n",
       "      <td>0.00</td>\n",
       "      <td>0.00</td>\n",
       "      <td>0</td>\n",
       "      <td>0</td>\n",
       "    </tr>\n",
       "    <tr>\n",
       "      <th>1</th>\n",
       "      <td>1</td>\n",
       "      <td>PAYMENT</td>\n",
       "      <td>1864.28</td>\n",
       "      <td>C1666544295</td>\n",
       "      <td>21249.00</td>\n",
       "      <td>19384.72</td>\n",
       "      <td>M2044282225</td>\n",
       "      <td>0.00</td>\n",
       "      <td>0.00</td>\n",
       "      <td>0</td>\n",
       "      <td>0</td>\n",
       "    </tr>\n",
       "    <tr>\n",
       "      <th>2</th>\n",
       "      <td>1</td>\n",
       "      <td>TRANSFER</td>\n",
       "      <td>181.00</td>\n",
       "      <td>C1305486145</td>\n",
       "      <td>181.00</td>\n",
       "      <td>0.00</td>\n",
       "      <td>C553264065</td>\n",
       "      <td>0.00</td>\n",
       "      <td>0.00</td>\n",
       "      <td>1</td>\n",
       "      <td>0</td>\n",
       "    </tr>\n",
       "    <tr>\n",
       "      <th>3</th>\n",
       "      <td>1</td>\n",
       "      <td>CASH_OUT</td>\n",
       "      <td>181.00</td>\n",
       "      <td>C840083671</td>\n",
       "      <td>181.00</td>\n",
       "      <td>0.00</td>\n",
       "      <td>C38997010</td>\n",
       "      <td>21182.00</td>\n",
       "      <td>0.00</td>\n",
       "      <td>1</td>\n",
       "      <td>0</td>\n",
       "    </tr>\n",
       "    <tr>\n",
       "      <th>4</th>\n",
       "      <td>1</td>\n",
       "      <td>PAYMENT</td>\n",
       "      <td>11668.14</td>\n",
       "      <td>C2048537720</td>\n",
       "      <td>41554.00</td>\n",
       "      <td>29885.86</td>\n",
       "      <td>M1230701703</td>\n",
       "      <td>0.00</td>\n",
       "      <td>0.00</td>\n",
       "      <td>0</td>\n",
       "      <td>0</td>\n",
       "    </tr>\n",
       "    <tr>\n",
       "      <th>...</th>\n",
       "      <td>...</td>\n",
       "      <td>...</td>\n",
       "      <td>...</td>\n",
       "      <td>...</td>\n",
       "      <td>...</td>\n",
       "      <td>...</td>\n",
       "      <td>...</td>\n",
       "      <td>...</td>\n",
       "      <td>...</td>\n",
       "      <td>...</td>\n",
       "      <td>...</td>\n",
       "    </tr>\n",
       "    <tr>\n",
       "      <th>6362615</th>\n",
       "      <td>743</td>\n",
       "      <td>CASH_OUT</td>\n",
       "      <td>339682.13</td>\n",
       "      <td>C786484425</td>\n",
       "      <td>339682.13</td>\n",
       "      <td>0.00</td>\n",
       "      <td>C776919290</td>\n",
       "      <td>0.00</td>\n",
       "      <td>339682.13</td>\n",
       "      <td>1</td>\n",
       "      <td>0</td>\n",
       "    </tr>\n",
       "    <tr>\n",
       "      <th>6362616</th>\n",
       "      <td>743</td>\n",
       "      <td>TRANSFER</td>\n",
       "      <td>6311409.28</td>\n",
       "      <td>C1529008245</td>\n",
       "      <td>6311409.28</td>\n",
       "      <td>0.00</td>\n",
       "      <td>C1881841831</td>\n",
       "      <td>0.00</td>\n",
       "      <td>0.00</td>\n",
       "      <td>1</td>\n",
       "      <td>0</td>\n",
       "    </tr>\n",
       "    <tr>\n",
       "      <th>6362617</th>\n",
       "      <td>743</td>\n",
       "      <td>CASH_OUT</td>\n",
       "      <td>6311409.28</td>\n",
       "      <td>C1162922333</td>\n",
       "      <td>6311409.28</td>\n",
       "      <td>0.00</td>\n",
       "      <td>C1365125890</td>\n",
       "      <td>68488.84</td>\n",
       "      <td>6379898.11</td>\n",
       "      <td>1</td>\n",
       "      <td>0</td>\n",
       "    </tr>\n",
       "    <tr>\n",
       "      <th>6362618</th>\n",
       "      <td>743</td>\n",
       "      <td>TRANSFER</td>\n",
       "      <td>850002.52</td>\n",
       "      <td>C1685995037</td>\n",
       "      <td>850002.52</td>\n",
       "      <td>0.00</td>\n",
       "      <td>C2080388513</td>\n",
       "      <td>0.00</td>\n",
       "      <td>0.00</td>\n",
       "      <td>1</td>\n",
       "      <td>0</td>\n",
       "    </tr>\n",
       "    <tr>\n",
       "      <th>6362619</th>\n",
       "      <td>743</td>\n",
       "      <td>CASH_OUT</td>\n",
       "      <td>850002.52</td>\n",
       "      <td>C1280323807</td>\n",
       "      <td>850002.52</td>\n",
       "      <td>0.00</td>\n",
       "      <td>C873221189</td>\n",
       "      <td>6510099.11</td>\n",
       "      <td>7360101.63</td>\n",
       "      <td>1</td>\n",
       "      <td>0</td>\n",
       "    </tr>\n",
       "  </tbody>\n",
       "</table>\n",
       "<p>6362620 rows × 11 columns</p>\n",
       "</div>"
      ],
      "text/plain": [
       "         step      type      amount     nameOrig  oldbalanceOrg  \\\n",
       "0           1   PAYMENT     9839.64  C1231006815      170136.00   \n",
       "1           1   PAYMENT     1864.28  C1666544295       21249.00   \n",
       "2           1  TRANSFER      181.00  C1305486145         181.00   \n",
       "3           1  CASH_OUT      181.00   C840083671         181.00   \n",
       "4           1   PAYMENT    11668.14  C2048537720       41554.00   \n",
       "...       ...       ...         ...          ...            ...   \n",
       "6362615   743  CASH_OUT   339682.13   C786484425      339682.13   \n",
       "6362616   743  TRANSFER  6311409.28  C1529008245     6311409.28   \n",
       "6362617   743  CASH_OUT  6311409.28  C1162922333     6311409.28   \n",
       "6362618   743  TRANSFER   850002.52  C1685995037      850002.52   \n",
       "6362619   743  CASH_OUT   850002.52  C1280323807      850002.52   \n",
       "\n",
       "         newbalanceOrig     nameDest  oldbalanceDest  newbalanceDest  isFraud  \\\n",
       "0             160296.36  M1979787155            0.00            0.00        0   \n",
       "1              19384.72  M2044282225            0.00            0.00        0   \n",
       "2                  0.00   C553264065            0.00            0.00        1   \n",
       "3                  0.00    C38997010        21182.00            0.00        1   \n",
       "4              29885.86  M1230701703            0.00            0.00        0   \n",
       "...                 ...          ...             ...             ...      ...   \n",
       "6362615            0.00   C776919290            0.00       339682.13        1   \n",
       "6362616            0.00  C1881841831            0.00            0.00        1   \n",
       "6362617            0.00  C1365125890        68488.84      6379898.11        1   \n",
       "6362618            0.00  C2080388513            0.00            0.00        1   \n",
       "6362619            0.00   C873221189      6510099.11      7360101.63        1   \n",
       "\n",
       "         isFlaggedFraud  \n",
       "0                     0  \n",
       "1                     0  \n",
       "2                     0  \n",
       "3                     0  \n",
       "4                     0  \n",
       "...                 ...  \n",
       "6362615               0  \n",
       "6362616               0  \n",
       "6362617               0  \n",
       "6362618               0  \n",
       "6362619               0  \n",
       "\n",
       "[6362620 rows x 11 columns]"
      ]
     },
     "execution_count": 3,
     "metadata": {},
     "output_type": "execute_result"
    }
   ],
   "source": [
    "data"
   ]
  },
  {
   "cell_type": "code",
   "execution_count": 4,
   "id": "611e5ef5",
   "metadata": {},
   "outputs": [
    {
     "data": {
      "text/plain": [
       "(6362620, 11)"
      ]
     },
     "execution_count": 4,
     "metadata": {},
     "output_type": "execute_result"
    }
   ],
   "source": [
    "data.shape"
   ]
  },
  {
   "cell_type": "code",
   "execution_count": 5,
   "id": "a9df1bc4",
   "metadata": {},
   "outputs": [
    {
     "data": {
      "text/html": [
       "<div>\n",
       "<style scoped>\n",
       "    .dataframe tbody tr th:only-of-type {\n",
       "        vertical-align: middle;\n",
       "    }\n",
       "\n",
       "    .dataframe tbody tr th {\n",
       "        vertical-align: top;\n",
       "    }\n",
       "\n",
       "    .dataframe thead th {\n",
       "        text-align: right;\n",
       "    }\n",
       "</style>\n",
       "<table border=\"1\" class=\"dataframe\">\n",
       "  <thead>\n",
       "    <tr style=\"text-align: right;\">\n",
       "      <th></th>\n",
       "      <th>step</th>\n",
       "      <th>type</th>\n",
       "      <th>amount</th>\n",
       "      <th>nameOrig</th>\n",
       "      <th>oldbalanceOrg</th>\n",
       "      <th>newbalanceOrig</th>\n",
       "      <th>nameDest</th>\n",
       "      <th>oldbalanceDest</th>\n",
       "      <th>newbalanceDest</th>\n",
       "      <th>isFraud</th>\n",
       "      <th>isFlaggedFraud</th>\n",
       "    </tr>\n",
       "  </thead>\n",
       "  <tbody>\n",
       "    <tr>\n",
       "      <th>0</th>\n",
       "      <td>False</td>\n",
       "      <td>False</td>\n",
       "      <td>False</td>\n",
       "      <td>False</td>\n",
       "      <td>False</td>\n",
       "      <td>False</td>\n",
       "      <td>False</td>\n",
       "      <td>False</td>\n",
       "      <td>False</td>\n",
       "      <td>False</td>\n",
       "      <td>False</td>\n",
       "    </tr>\n",
       "    <tr>\n",
       "      <th>1</th>\n",
       "      <td>False</td>\n",
       "      <td>False</td>\n",
       "      <td>False</td>\n",
       "      <td>False</td>\n",
       "      <td>False</td>\n",
       "      <td>False</td>\n",
       "      <td>False</td>\n",
       "      <td>False</td>\n",
       "      <td>False</td>\n",
       "      <td>False</td>\n",
       "      <td>False</td>\n",
       "    </tr>\n",
       "    <tr>\n",
       "      <th>2</th>\n",
       "      <td>False</td>\n",
       "      <td>False</td>\n",
       "      <td>False</td>\n",
       "      <td>False</td>\n",
       "      <td>False</td>\n",
       "      <td>False</td>\n",
       "      <td>False</td>\n",
       "      <td>False</td>\n",
       "      <td>False</td>\n",
       "      <td>False</td>\n",
       "      <td>False</td>\n",
       "    </tr>\n",
       "    <tr>\n",
       "      <th>3</th>\n",
       "      <td>False</td>\n",
       "      <td>False</td>\n",
       "      <td>False</td>\n",
       "      <td>False</td>\n",
       "      <td>False</td>\n",
       "      <td>False</td>\n",
       "      <td>False</td>\n",
       "      <td>False</td>\n",
       "      <td>False</td>\n",
       "      <td>False</td>\n",
       "      <td>False</td>\n",
       "    </tr>\n",
       "    <tr>\n",
       "      <th>4</th>\n",
       "      <td>False</td>\n",
       "      <td>False</td>\n",
       "      <td>False</td>\n",
       "      <td>False</td>\n",
       "      <td>False</td>\n",
       "      <td>False</td>\n",
       "      <td>False</td>\n",
       "      <td>False</td>\n",
       "      <td>False</td>\n",
       "      <td>False</td>\n",
       "      <td>False</td>\n",
       "    </tr>\n",
       "    <tr>\n",
       "      <th>...</th>\n",
       "      <td>...</td>\n",
       "      <td>...</td>\n",
       "      <td>...</td>\n",
       "      <td>...</td>\n",
       "      <td>...</td>\n",
       "      <td>...</td>\n",
       "      <td>...</td>\n",
       "      <td>...</td>\n",
       "      <td>...</td>\n",
       "      <td>...</td>\n",
       "      <td>...</td>\n",
       "    </tr>\n",
       "    <tr>\n",
       "      <th>6362615</th>\n",
       "      <td>False</td>\n",
       "      <td>False</td>\n",
       "      <td>False</td>\n",
       "      <td>False</td>\n",
       "      <td>False</td>\n",
       "      <td>False</td>\n",
       "      <td>False</td>\n",
       "      <td>False</td>\n",
       "      <td>False</td>\n",
       "      <td>False</td>\n",
       "      <td>False</td>\n",
       "    </tr>\n",
       "    <tr>\n",
       "      <th>6362616</th>\n",
       "      <td>False</td>\n",
       "      <td>False</td>\n",
       "      <td>False</td>\n",
       "      <td>False</td>\n",
       "      <td>False</td>\n",
       "      <td>False</td>\n",
       "      <td>False</td>\n",
       "      <td>False</td>\n",
       "      <td>False</td>\n",
       "      <td>False</td>\n",
       "      <td>False</td>\n",
       "    </tr>\n",
       "    <tr>\n",
       "      <th>6362617</th>\n",
       "      <td>False</td>\n",
       "      <td>False</td>\n",
       "      <td>False</td>\n",
       "      <td>False</td>\n",
       "      <td>False</td>\n",
       "      <td>False</td>\n",
       "      <td>False</td>\n",
       "      <td>False</td>\n",
       "      <td>False</td>\n",
       "      <td>False</td>\n",
       "      <td>False</td>\n",
       "    </tr>\n",
       "    <tr>\n",
       "      <th>6362618</th>\n",
       "      <td>False</td>\n",
       "      <td>False</td>\n",
       "      <td>False</td>\n",
       "      <td>False</td>\n",
       "      <td>False</td>\n",
       "      <td>False</td>\n",
       "      <td>False</td>\n",
       "      <td>False</td>\n",
       "      <td>False</td>\n",
       "      <td>False</td>\n",
       "      <td>False</td>\n",
       "    </tr>\n",
       "    <tr>\n",
       "      <th>6362619</th>\n",
       "      <td>False</td>\n",
       "      <td>False</td>\n",
       "      <td>False</td>\n",
       "      <td>False</td>\n",
       "      <td>False</td>\n",
       "      <td>False</td>\n",
       "      <td>False</td>\n",
       "      <td>False</td>\n",
       "      <td>False</td>\n",
       "      <td>False</td>\n",
       "      <td>False</td>\n",
       "    </tr>\n",
       "  </tbody>\n",
       "</table>\n",
       "<p>6362620 rows × 11 columns</p>\n",
       "</div>"
      ],
      "text/plain": [
       "          step   type  amount  nameOrig  oldbalanceOrg  newbalanceOrig  \\\n",
       "0        False  False   False     False          False           False   \n",
       "1        False  False   False     False          False           False   \n",
       "2        False  False   False     False          False           False   \n",
       "3        False  False   False     False          False           False   \n",
       "4        False  False   False     False          False           False   \n",
       "...        ...    ...     ...       ...            ...             ...   \n",
       "6362615  False  False   False     False          False           False   \n",
       "6362616  False  False   False     False          False           False   \n",
       "6362617  False  False   False     False          False           False   \n",
       "6362618  False  False   False     False          False           False   \n",
       "6362619  False  False   False     False          False           False   \n",
       "\n",
       "         nameDest  oldbalanceDest  newbalanceDest  isFraud  isFlaggedFraud  \n",
       "0           False           False           False    False           False  \n",
       "1           False           False           False    False           False  \n",
       "2           False           False           False    False           False  \n",
       "3           False           False           False    False           False  \n",
       "4           False           False           False    False           False  \n",
       "...           ...             ...             ...      ...             ...  \n",
       "6362615     False           False           False    False           False  \n",
       "6362616     False           False           False    False           False  \n",
       "6362617     False           False           False    False           False  \n",
       "6362618     False           False           False    False           False  \n",
       "6362619     False           False           False    False           False  \n",
       "\n",
       "[6362620 rows x 11 columns]"
      ]
     },
     "execution_count": 5,
     "metadata": {},
     "output_type": "execute_result"
    }
   ],
   "source": [
    "data.isnull()"
   ]
  },
  {
   "cell_type": "code",
   "execution_count": 6,
   "id": "bfc11af9",
   "metadata": {},
   "outputs": [
    {
     "data": {
      "text/plain": [
       "False"
      ]
     },
     "execution_count": 6,
     "metadata": {},
     "output_type": "execute_result"
    }
   ],
   "source": [
    "data.isnull().values.any()"
   ]
  },
  {
   "cell_type": "code",
   "execution_count": 7,
   "id": "4f55eaed",
   "metadata": {},
   "outputs": [
    {
     "name": "stdout",
     "output_type": "stream",
     "text": [
      "<class 'pandas.core.frame.DataFrame'>\n",
      "RangeIndex: 6362620 entries, 0 to 6362619\n",
      "Data columns (total 11 columns):\n",
      " #   Column          Dtype  \n",
      "---  ------          -----  \n",
      " 0   step            int64  \n",
      " 1   type            object \n",
      " 2   amount          float64\n",
      " 3   nameOrig        object \n",
      " 4   oldbalanceOrg   float64\n",
      " 5   newbalanceOrig  float64\n",
      " 6   nameDest        object \n",
      " 7   oldbalanceDest  float64\n",
      " 8   newbalanceDest  float64\n",
      " 9   isFraud         int64  \n",
      " 10  isFlaggedFraud  int64  \n",
      "dtypes: float64(5), int64(3), object(3)\n",
      "memory usage: 534.0+ MB\n"
     ]
    }
   ],
   "source": [
    "data.info()"
   ]
  },
  {
   "cell_type": "code",
   "execution_count": 8,
   "id": "1ad786da",
   "metadata": {},
   "outputs": [],
   "source": [
    "legit = len(data[data.isFraud == 0])\n",
    "fraud = len(data[data.isFraud == 1])\n",
    "legit_percent = (legit / (fraud + legit)) * 100\n",
    "fraud_percent = (fraud / (fraud + legit)) * 100"
   ]
  },
  {
   "cell_type": "code",
   "execution_count": 9,
   "id": "e561cca6",
   "metadata": {},
   "outputs": [
    {
     "name": "stdout",
     "output_type": "stream",
     "text": [
      "Number of Legit transactions:  6354407\n",
      "Number of Fraud transactions:  8213\n",
      "Percentage of Legit transactions: 99.8709 %\n",
      "Percentage of Fraud transactions: 0.1291 %\n"
     ]
    }
   ],
   "source": [
    "print(\"Number of Legit transactions: \", legit)\n",
    "print(\"Number of Fraud transactions: \", fraud)\n",
    "print(\"Percentage of Legit transactions: {:.4f} %\".format(legit_percent))\n",
    "print(\"Percentage of Fraud transactions: {:.4f} %\".format(fraud_percent))"
   ]
  },
  {
   "cell_type": "code",
   "execution_count": 10,
   "id": "69821b06",
   "metadata": {},
   "outputs": [
    {
     "data": {
      "text/html": [
       "<div>\n",
       "<style scoped>\n",
       "    .dataframe tbody tr th:only-of-type {\n",
       "        vertical-align: middle;\n",
       "    }\n",
       "\n",
       "    .dataframe tbody tr th {\n",
       "        vertical-align: top;\n",
       "    }\n",
       "\n",
       "    .dataframe thead th {\n",
       "        text-align: right;\n",
       "    }\n",
       "</style>\n",
       "<table border=\"1\" class=\"dataframe\">\n",
       "  <thead>\n",
       "    <tr style=\"text-align: right;\">\n",
       "      <th></th>\n",
       "      <th>step</th>\n",
       "      <th>type</th>\n",
       "      <th>amount</th>\n",
       "      <th>nameOrig</th>\n",
       "      <th>oldbalanceOrg</th>\n",
       "      <th>newbalanceOrig</th>\n",
       "      <th>nameDest</th>\n",
       "      <th>oldbalanceDest</th>\n",
       "      <th>newbalanceDest</th>\n",
       "      <th>isFraud</th>\n",
       "      <th>isFlaggedFraud</th>\n",
       "    </tr>\n",
       "  </thead>\n",
       "  <tbody>\n",
       "    <tr>\n",
       "      <th>0</th>\n",
       "      <td>1</td>\n",
       "      <td>PAYMENT</td>\n",
       "      <td>9839.64</td>\n",
       "      <td>C1231006815</td>\n",
       "      <td>170136.0</td>\n",
       "      <td>160296.36</td>\n",
       "      <td>M1979787155</td>\n",
       "      <td>0.0</td>\n",
       "      <td>0.0</td>\n",
       "      <td>0</td>\n",
       "      <td>0</td>\n",
       "    </tr>\n",
       "    <tr>\n",
       "      <th>1</th>\n",
       "      <td>1</td>\n",
       "      <td>PAYMENT</td>\n",
       "      <td>1864.28</td>\n",
       "      <td>C1666544295</td>\n",
       "      <td>21249.0</td>\n",
       "      <td>19384.72</td>\n",
       "      <td>M2044282225</td>\n",
       "      <td>0.0</td>\n",
       "      <td>0.0</td>\n",
       "      <td>0</td>\n",
       "      <td>0</td>\n",
       "    </tr>\n",
       "    <tr>\n",
       "      <th>4</th>\n",
       "      <td>1</td>\n",
       "      <td>PAYMENT</td>\n",
       "      <td>11668.14</td>\n",
       "      <td>C2048537720</td>\n",
       "      <td>41554.0</td>\n",
       "      <td>29885.86</td>\n",
       "      <td>M1230701703</td>\n",
       "      <td>0.0</td>\n",
       "      <td>0.0</td>\n",
       "      <td>0</td>\n",
       "      <td>0</td>\n",
       "    </tr>\n",
       "    <tr>\n",
       "      <th>5</th>\n",
       "      <td>1</td>\n",
       "      <td>PAYMENT</td>\n",
       "      <td>7817.71</td>\n",
       "      <td>C90045638</td>\n",
       "      <td>53860.0</td>\n",
       "      <td>46042.29</td>\n",
       "      <td>M573487274</td>\n",
       "      <td>0.0</td>\n",
       "      <td>0.0</td>\n",
       "      <td>0</td>\n",
       "      <td>0</td>\n",
       "    </tr>\n",
       "    <tr>\n",
       "      <th>6</th>\n",
       "      <td>1</td>\n",
       "      <td>PAYMENT</td>\n",
       "      <td>7107.77</td>\n",
       "      <td>C154988899</td>\n",
       "      <td>183195.0</td>\n",
       "      <td>176087.23</td>\n",
       "      <td>M408069119</td>\n",
       "      <td>0.0</td>\n",
       "      <td>0.0</td>\n",
       "      <td>0</td>\n",
       "      <td>0</td>\n",
       "    </tr>\n",
       "  </tbody>\n",
       "</table>\n",
       "</div>"
      ],
      "text/plain": [
       "   step     type    amount     nameOrig  oldbalanceOrg  newbalanceOrig  \\\n",
       "0     1  PAYMENT   9839.64  C1231006815       170136.0       160296.36   \n",
       "1     1  PAYMENT   1864.28  C1666544295        21249.0        19384.72   \n",
       "4     1  PAYMENT  11668.14  C2048537720        41554.0        29885.86   \n",
       "5     1  PAYMENT   7817.71    C90045638        53860.0        46042.29   \n",
       "6     1  PAYMENT   7107.77   C154988899       183195.0       176087.23   \n",
       "\n",
       "      nameDest  oldbalanceDest  newbalanceDest  isFraud  isFlaggedFraud  \n",
       "0  M1979787155             0.0             0.0        0               0  \n",
       "1  M2044282225             0.0             0.0        0               0  \n",
       "4  M1230701703             0.0             0.0        0               0  \n",
       "5   M573487274             0.0             0.0        0               0  \n",
       "6   M408069119             0.0             0.0        0               0  "
      ]
     },
     "execution_count": 10,
     "metadata": {},
     "output_type": "execute_result"
    }
   ],
   "source": [
    "X = data[data['nameDest'].str.contains('M')]\n",
    "X.head()"
   ]
  },
  {
   "cell_type": "markdown",
   "id": "0fe651ef",
   "metadata": {},
   "source": [
    "# VISUALISATION "
   ]
  },
  {
   "cell_type": "code",
   "execution_count": 11,
   "id": "0c688475",
   "metadata": {},
   "outputs": [],
   "source": [
    "import seaborn as sns\n",
    "import matplotlib.pyplot as plt"
   ]
  },
  {
   "cell_type": "code",
   "execution_count": 12,
   "id": "661a6965",
   "metadata": {},
   "outputs": [
    {
     "name": "stderr",
     "output_type": "stream",
     "text": [
      "/var/folders/6q/fn84x13j7f71ynxjrwfxbtwc0000gp/T/ipykernel_10022/3381966614.py:1: FutureWarning: The default value of numeric_only in DataFrame.corr is deprecated. In a future version, it will default to False. Select only valid columns or specify the value of numeric_only to silence this warning.\n",
      "  corr=data.corr()\n"
     ]
    },
    {
     "data": {
      "text/plain": [
       "<Axes: >"
      ]
     },
     "execution_count": 12,
     "metadata": {},
     "output_type": "execute_result"
    },
    {
     "data": {
      "image/png": "[encoded data removed]",
      "text/plain": [
       "<Figure size 1000x600 with 2 Axes>"
      ]
     },
     "metadata": {},
     "output_type": "display_data"
    }
   ],
   "source": [
    "corr=data.corr()\n",
    "\n",
    "plt.figure(figsize=(10,6))\n",
    "sns.heatmap(corr,annot=True)"
   ]
  },
  {
   "cell_type": "code",
   "execution_count": 13,
   "id": "3d079987",
   "metadata": {},
   "outputs": [
    {
     "data": {
      "image/png": "[encoded data removed]",
      "text/plain": [
       "<Figure size 600x900 with 1 Axes>"
      ]
     },
     "metadata": {},
     "output_type": "display_data"
    }
   ],
   "source": [
    "plt.figure(figsize=(6,9))\n",
    "labels = [\"Legit\", \"Fraud\"]\n",
    "count_classes = data.value_counts(data['isFraud'], sort= True)\n",
    "count_classes.plot(kind = \"bar\", rot = 0)\n",
    "plt.title(\"Visualization of Labels\")\n",
    "plt.ylabel(\"Count\")\n",
    "plt.xticks(range(2), labels)\n",
    "plt.show()"
   ]
  },
  {
   "cell_type": "markdown",
   "id": "fb8b5b02",
   "metadata": {},
   "source": [
    "LABEL ENCODING"
   ]
  },
  {
   "cell_type": "code",
   "execution_count": 14,
   "id": "8ed749cb",
   "metadata": {},
   "outputs": [
    {
     "data": {
      "text/html": [
       "<div>\n",
       "<style scoped>\n",
       "    .dataframe tbody tr th:only-of-type {\n",
       "        vertical-align: middle;\n",
       "    }\n",
       "\n",
       "    .dataframe tbody tr th {\n",
       "        vertical-align: top;\n",
       "    }\n",
       "\n",
       "    .dataframe thead th {\n",
       "        text-align: right;\n",
       "    }\n",
       "</style>\n",
       "<table border=\"1\" class=\"dataframe\">\n",
       "  <thead>\n",
       "    <tr style=\"text-align: right;\">\n",
       "      <th></th>\n",
       "      <th>step</th>\n",
       "      <th>type</th>\n",
       "      <th>amount</th>\n",
       "      <th>nameOrig</th>\n",
       "      <th>oldbalanceOrg</th>\n",
       "      <th>newbalanceOrig</th>\n",
       "      <th>nameDest</th>\n",
       "      <th>oldbalanceDest</th>\n",
       "      <th>newbalanceDest</th>\n",
       "      <th>isFraud</th>\n",
       "      <th>isFlaggedFraud</th>\n",
       "    </tr>\n",
       "  </thead>\n",
       "  <tbody>\n",
       "    <tr>\n",
       "      <th>0</th>\n",
       "      <td>1</td>\n",
       "      <td>PAYMENT</td>\n",
       "      <td>9839.64</td>\n",
       "      <td>C1231006815</td>\n",
       "      <td>170136.00</td>\n",
       "      <td>160296.36</td>\n",
       "      <td>M1979787155</td>\n",
       "      <td>0.00</td>\n",
       "      <td>0.00</td>\n",
       "      <td>0</td>\n",
       "      <td>0</td>\n",
       "    </tr>\n",
       "    <tr>\n",
       "      <th>1</th>\n",
       "      <td>1</td>\n",
       "      <td>PAYMENT</td>\n",
       "      <td>1864.28</td>\n",
       "      <td>C1666544295</td>\n",
       "      <td>21249.00</td>\n",
       "      <td>19384.72</td>\n",
       "      <td>M2044282225</td>\n",
       "      <td>0.00</td>\n",
       "      <td>0.00</td>\n",
       "      <td>0</td>\n",
       "      <td>0</td>\n",
       "    </tr>\n",
       "    <tr>\n",
       "      <th>2</th>\n",
       "      <td>1</td>\n",
       "      <td>TRANSFER</td>\n",
       "      <td>181.00</td>\n",
       "      <td>C1305486145</td>\n",
       "      <td>181.00</td>\n",
       "      <td>0.00</td>\n",
       "      <td>C553264065</td>\n",
       "      <td>0.00</td>\n",
       "      <td>0.00</td>\n",
       "      <td>1</td>\n",
       "      <td>0</td>\n",
       "    </tr>\n",
       "    <tr>\n",
       "      <th>3</th>\n",
       "      <td>1</td>\n",
       "      <td>CASH_OUT</td>\n",
       "      <td>181.00</td>\n",
       "      <td>C840083671</td>\n",
       "      <td>181.00</td>\n",
       "      <td>0.00</td>\n",
       "      <td>C38997010</td>\n",
       "      <td>21182.00</td>\n",
       "      <td>0.00</td>\n",
       "      <td>1</td>\n",
       "      <td>0</td>\n",
       "    </tr>\n",
       "    <tr>\n",
       "      <th>4</th>\n",
       "      <td>1</td>\n",
       "      <td>PAYMENT</td>\n",
       "      <td>11668.14</td>\n",
       "      <td>C2048537720</td>\n",
       "      <td>41554.00</td>\n",
       "      <td>29885.86</td>\n",
       "      <td>M1230701703</td>\n",
       "      <td>0.00</td>\n",
       "      <td>0.00</td>\n",
       "      <td>0</td>\n",
       "      <td>0</td>\n",
       "    </tr>\n",
       "    <tr>\n",
       "      <th>...</th>\n",
       "      <td>...</td>\n",
       "      <td>...</td>\n",
       "      <td>...</td>\n",
       "      <td>...</td>\n",
       "      <td>...</td>\n",
       "      <td>...</td>\n",
       "      <td>...</td>\n",
       "      <td>...</td>\n",
       "      <td>...</td>\n",
       "      <td>...</td>\n",
       "      <td>...</td>\n",
       "    </tr>\n",
       "    <tr>\n",
       "      <th>6362615</th>\n",
       "      <td>743</td>\n",
       "      <td>CASH_OUT</td>\n",
       "      <td>339682.13</td>\n",
       "      <td>C786484425</td>\n",
       "      <td>339682.13</td>\n",
       "      <td>0.00</td>\n",
       "      <td>C776919290</td>\n",
       "      <td>0.00</td>\n",
       "      <td>339682.13</td>\n",
       "      <td>1</td>\n",
       "      <td>0</td>\n",
       "    </tr>\n",
       "    <tr>\n",
       "      <th>6362616</th>\n",
       "      <td>743</td>\n",
       "      <td>TRANSFER</td>\n",
       "      <td>6311409.28</td>\n",
       "      <td>C1529008245</td>\n",
       "      <td>6311409.28</td>\n",
       "      <td>0.00</td>\n",
       "      <td>C1881841831</td>\n",
       "      <td>0.00</td>\n",
       "      <td>0.00</td>\n",
       "      <td>1</td>\n",
       "      <td>0</td>\n",
       "    </tr>\n",
       "    <tr>\n",
       "      <th>6362617</th>\n",
       "      <td>743</td>\n",
       "      <td>CASH_OUT</td>\n",
       "      <td>6311409.28</td>\n",
       "      <td>C1162922333</td>\n",
       "      <td>6311409.28</td>\n",
       "      <td>0.00</td>\n",
       "      <td>C1365125890</td>\n",
       "      <td>68488.84</td>\n",
       "      <td>6379898.11</td>\n",
       "      <td>1</td>\n",
       "      <td>0</td>\n",
       "    </tr>\n",
       "    <tr>\n",
       "      <th>6362618</th>\n",
       "      <td>743</td>\n",
       "      <td>TRANSFER</td>\n",
       "      <td>850002.52</td>\n",
       "      <td>C1685995037</td>\n",
       "      <td>850002.52</td>\n",
       "      <td>0.00</td>\n",
       "      <td>C2080388513</td>\n",
       "      <td>0.00</td>\n",
       "      <td>0.00</td>\n",
       "      <td>1</td>\n",
       "      <td>0</td>\n",
       "    </tr>\n",
       "    <tr>\n",
       "      <th>6362619</th>\n",
       "      <td>743</td>\n",
       "      <td>CASH_OUT</td>\n",
       "      <td>850002.52</td>\n",
       "      <td>C1280323807</td>\n",
       "      <td>850002.52</td>\n",
       "      <td>0.00</td>\n",
       "      <td>C873221189</td>\n",
       "      <td>6510099.11</td>\n",
       "      <td>7360101.63</td>\n",
       "      <td>1</td>\n",
       "      <td>0</td>\n",
       "    </tr>\n",
       "  </tbody>\n",
       "</table>\n",
       "<p>6362620 rows × 11 columns</p>\n",
       "</div>"
      ],
      "text/plain": [
       "         step      type      amount     nameOrig  oldbalanceOrg  \\\n",
       "0           1   PAYMENT     9839.64  C1231006815      170136.00   \n",
       "1           1   PAYMENT     1864.28  C1666544295       21249.00   \n",
       "2           1  TRANSFER      181.00  C1305486145         181.00   \n",
       "3           1  CASH_OUT      181.00   C840083671         181.00   \n",
       "4           1   PAYMENT    11668.14  C2048537720       41554.00   \n",
       "...       ...       ...         ...          ...            ...   \n",
       "6362615   743  CASH_OUT   339682.13   C786484425      339682.13   \n",
       "6362616   743  TRANSFER  6311409.28  C1529008245     6311409.28   \n",
       "6362617   743  CASH_OUT  6311409.28  C1162922333     6311409.28   \n",
       "6362618   743  TRANSFER   850002.52  C1685995037      850002.52   \n",
       "6362619   743  CASH_OUT   850002.52  C1280323807      850002.52   \n",
       "\n",
       "         newbalanceOrig     nameDest  oldbalanceDest  newbalanceDest  isFraud  \\\n",
       "0             160296.36  M1979787155            0.00            0.00        0   \n",
       "1              19384.72  M2044282225            0.00            0.00        0   \n",
       "2                  0.00   C553264065            0.00            0.00        1   \n",
       "3                  0.00    C38997010        21182.00            0.00        1   \n",
       "4              29885.86  M1230701703            0.00            0.00        0   \n",
       "...                 ...          ...             ...             ...      ...   \n",
       "6362615            0.00   C776919290            0.00       339682.13        1   \n",
       "6362616            0.00  C1881841831            0.00            0.00        1   \n",
       "6362617            0.00  C1365125890        68488.84      6379898.11        1   \n",
       "6362618            0.00  C2080388513            0.00            0.00        1   \n",
       "6362619            0.00   C873221189      6510099.11      7360101.63        1   \n",
       "\n",
       "         isFlaggedFraud  \n",
       "0                     0  \n",
       "1                     0  \n",
       "2                     0  \n",
       "3                     0  \n",
       "4                     0  \n",
       "...                 ...  \n",
       "6362615               0  \n",
       "6362616               0  \n",
       "6362617               0  \n",
       "6362618               0  \n",
       "6362619               0  \n",
       "\n",
       "[6362620 rows x 11 columns]"
      ]
     },
     "execution_count": 14,
     "metadata": {},
     "output_type": "execute_result"
    }
   ],
   "source": [
    "data_copy = data.copy()\n",
    "data_copy"
   ]
  },
  {
   "cell_type": "code",
   "execution_count": 15,
   "id": "fe063dd6",
   "metadata": {},
   "outputs": [],
   "source": [
    "objList = data_copy.select_dtypes(include = \"object\").columns"
   ]
  },
  {
   "cell_type": "code",
   "execution_count": 16,
   "id": "6456bbda",
   "metadata": {},
   "outputs": [
    {
     "data": {
      "text/plain": [
       "Index(['type', 'nameOrig', 'nameDest'], dtype='object')"
      ]
     },
     "execution_count": 16,
     "metadata": {},
     "output_type": "execute_result"
    }
   ],
   "source": [
    "objList"
   ]
  },
  {
   "cell_type": "code",
   "execution_count": 17,
   "id": "923a2f53",
   "metadata": {},
   "outputs": [],
   "source": [
    "from sklearn.preprocessing import LabelEncoder"
   ]
  },
  {
   "cell_type": "code",
   "execution_count": 18,
   "id": "e47226a6",
   "metadata": {},
   "outputs": [],
   "source": [
    "le = LabelEncoder()\n",
    "\n",
    "for feat in objList:\n",
    "    data_copy[feat] = le.fit_transform(data_copy[feat].astype(str))"
   ]
  },
  {
   "cell_type": "code",
   "execution_count": 19,
   "id": "8b9a4242",
   "metadata": {},
   "outputs": [
    {
     "name": "stdout",
     "output_type": "stream",
     "text": [
      "<class 'pandas.core.frame.DataFrame'>\n",
      "RangeIndex: 6362620 entries, 0 to 6362619\n",
      "Data columns (total 11 columns):\n",
      " #   Column          Dtype  \n",
      "---  ------          -----  \n",
      " 0   step            int64  \n",
      " 1   type            int64  \n",
      " 2   amount          float64\n",
      " 3   nameOrig        int64  \n",
      " 4   oldbalanceOrg   float64\n",
      " 5   newbalanceOrig  float64\n",
      " 6   nameDest        int64  \n",
      " 7   oldbalanceDest  float64\n",
      " 8   newbalanceDest  float64\n",
      " 9   isFraud         int64  \n",
      " 10  isFlaggedFraud  int64  \n",
      "dtypes: float64(5), int64(6)\n",
      "memory usage: 534.0 MB\n"
     ]
    }
   ],
   "source": [
    "data_copy.info()"
   ]
  },
  {
   "cell_type": "markdown",
   "id": "aebc8ab1",
   "metadata": {},
   "source": [
    "    MULTI-COLINEARITY"
   ]
  },
  {
   "cell_type": "code",
   "execution_count": 20,
   "id": "815fbe56",
   "metadata": {},
   "outputs": [],
   "source": [
    "from statsmodels.stats.outliers_influence import variance_inflation_factor"
   ]
  },
  {
   "cell_type": "code",
   "execution_count": 21,
   "id": "86afc1fd",
   "metadata": {},
   "outputs": [
    {
     "data": {
      "text/html": [
       "<div>\n",
       "<style scoped>\n",
       "    .dataframe tbody tr th:only-of-type {\n",
       "        vertical-align: middle;\n",
       "    }\n",
       "\n",
       "    .dataframe tbody tr th {\n",
       "        vertical-align: top;\n",
       "    }\n",
       "\n",
       "    .dataframe thead th {\n",
       "        text-align: right;\n",
       "    }\n",
       "</style>\n",
       "<table border=\"1\" class=\"dataframe\">\n",
       "  <thead>\n",
       "    <tr style=\"text-align: right;\">\n",
       "      <th></th>\n",
       "      <th>variables</th>\n",
       "      <th>VIF</th>\n",
       "    </tr>\n",
       "  </thead>\n",
       "  <tbody>\n",
       "    <tr>\n",
       "      <th>0</th>\n",
       "      <td>step</td>\n",
       "      <td>2.791610</td>\n",
       "    </tr>\n",
       "    <tr>\n",
       "      <th>1</th>\n",
       "      <td>type</td>\n",
       "      <td>4.467405</td>\n",
       "    </tr>\n",
       "    <tr>\n",
       "      <th>2</th>\n",
       "      <td>amount</td>\n",
       "      <td>4.149312</td>\n",
       "    </tr>\n",
       "    <tr>\n",
       "      <th>3</th>\n",
       "      <td>nameOrig</td>\n",
       "      <td>2.764234</td>\n",
       "    </tr>\n",
       "    <tr>\n",
       "      <th>4</th>\n",
       "      <td>oldbalanceOrg</td>\n",
       "      <td>576.803777</td>\n",
       "    </tr>\n",
       "    <tr>\n",
       "      <th>5</th>\n",
       "      <td>newbalanceOrig</td>\n",
       "      <td>582.709128</td>\n",
       "    </tr>\n",
       "    <tr>\n",
       "      <th>6</th>\n",
       "      <td>nameDest</td>\n",
       "      <td>3.300975</td>\n",
       "    </tr>\n",
       "    <tr>\n",
       "      <th>7</th>\n",
       "      <td>oldbalanceDest</td>\n",
       "      <td>73.349937</td>\n",
       "    </tr>\n",
       "    <tr>\n",
       "      <th>8</th>\n",
       "      <td>newbalanceDest</td>\n",
       "      <td>85.005614</td>\n",
       "    </tr>\n",
       "    <tr>\n",
       "      <th>9</th>\n",
       "      <td>isFraud</td>\n",
       "      <td>1.195305</td>\n",
       "    </tr>\n",
       "    <tr>\n",
       "      <th>10</th>\n",
       "      <td>isFlaggedFraud</td>\n",
       "      <td>1.002587</td>\n",
       "    </tr>\n",
       "  </tbody>\n",
       "</table>\n",
       "</div>"
      ],
      "text/plain": [
       "         variables         VIF\n",
       "0             step    2.791610\n",
       "1             type    4.467405\n",
       "2           amount    4.149312\n",
       "3         nameOrig    2.764234\n",
       "4    oldbalanceOrg  576.803777\n",
       "5   newbalanceOrig  582.709128\n",
       "6         nameDest    3.300975\n",
       "7   oldbalanceDest   73.349937\n",
       "8   newbalanceDest   85.005614\n",
       "9          isFraud    1.195305\n",
       "10  isFlaggedFraud    1.002587"
      ]
     },
     "execution_count": 21,
     "metadata": {},
     "output_type": "execute_result"
    }
   ],
   "source": [
    "def calc_vif(data):\n",
    "\n",
    "    # Calculating VIF\n",
    "    vif = pd.DataFrame()\n",
    "    vif[\"variables\"] = data.columns\n",
    "    vif[\"VIF\"] = [variance_inflation_factor(data.values, i) for i in range(data.shape[1])]\n",
    "\n",
    "    return(vif)\n",
    "\n",
    "calc_vif(data_copy)"
   ]
  },
  {
   "cell_type": "markdown",
   "id": "e52d55df",
   "metadata": {},
   "source": [
    "We can see that oldbalanceOrg and newbalanceOrig have too high VIF thus they are highly correlated. Similarly oldbalanceDest and newbalanceDest. Also nameDest is connected to nameOrig.\n",
    "\n",
    "Thus combine these pairs of collinear attributes and drop the individual ones"
   ]
  },
  {
   "cell_type": "code",
   "execution_count": 22,
   "id": "4bb07113",
   "metadata": {},
   "outputs": [
    {
     "data": {
      "text/html": [
       "<div>\n",
       "<style scoped>\n",
       "    .dataframe tbody tr th:only-of-type {\n",
       "        vertical-align: middle;\n",
       "    }\n",
       "\n",
       "    .dataframe tbody tr th {\n",
       "        vertical-align: top;\n",
       "    }\n",
       "\n",
       "    .dataframe thead th {\n",
       "        text-align: right;\n",
       "    }\n",
       "</style>\n",
       "<table border=\"1\" class=\"dataframe\">\n",
       "  <thead>\n",
       "    <tr style=\"text-align: right;\">\n",
       "      <th></th>\n",
       "      <th>variables</th>\n",
       "      <th>VIF</th>\n",
       "    </tr>\n",
       "  </thead>\n",
       "  <tbody>\n",
       "    <tr>\n",
       "      <th>0</th>\n",
       "      <td>type</td>\n",
       "      <td>2.687803</td>\n",
       "    </tr>\n",
       "    <tr>\n",
       "      <th>1</th>\n",
       "      <td>amount</td>\n",
       "      <td>3.818902</td>\n",
       "    </tr>\n",
       "    <tr>\n",
       "      <th>2</th>\n",
       "      <td>isFraud</td>\n",
       "      <td>1.184479</td>\n",
       "    </tr>\n",
       "    <tr>\n",
       "      <th>3</th>\n",
       "      <td>isFlaggedFraud</td>\n",
       "      <td>1.002546</td>\n",
       "    </tr>\n",
       "    <tr>\n",
       "      <th>4</th>\n",
       "      <td>Actual_amount_orig</td>\n",
       "      <td>1.307910</td>\n",
       "    </tr>\n",
       "    <tr>\n",
       "      <th>5</th>\n",
       "      <td>Actual_amount_dest</td>\n",
       "      <td>3.754335</td>\n",
       "    </tr>\n",
       "    <tr>\n",
       "      <th>6</th>\n",
       "      <td>TransactionPath</td>\n",
       "      <td>2.677167</td>\n",
       "    </tr>\n",
       "  </tbody>\n",
       "</table>\n",
       "</div>"
      ],
      "text/plain": [
       "            variables       VIF\n",
       "0                type  2.687803\n",
       "1              amount  3.818902\n",
       "2             isFraud  1.184479\n",
       "3      isFlaggedFraud  1.002546\n",
       "4  Actual_amount_orig  1.307910\n",
       "5  Actual_amount_dest  3.754335\n",
       "6     TransactionPath  2.677167"
      ]
     },
     "execution_count": 22,
     "metadata": {},
     "output_type": "execute_result"
    }
   ],
   "source": [
    "data_copy['Actual_amount_orig'] = data_copy.apply(lambda x: x['oldbalanceOrg'] - x['newbalanceOrig'],axis=1)\n",
    "data_copy['Actual_amount_dest'] = data_copy.apply(lambda x: x['oldbalanceDest'] - x['newbalanceDest'],axis=1)\n",
    "data_copy['TransactionPath'] = data_copy.apply(lambda x: x['nameOrig'] + x['nameDest'],axis=1)\n",
    "\n",
    "#Dropping columns\n",
    "data_copy = data_copy.drop(['oldbalanceOrg','newbalanceOrig','oldbalanceDest','newbalanceDest','step','nameOrig','nameDest'],axis=1)\n",
    "\n",
    "calc_vif(data_copy)"
   ]
  },
  {
   "cell_type": "code",
   "execution_count": 23,
   "id": "660fbe61",
   "metadata": {},
   "outputs": [
    {
     "data": {
      "text/plain": [
       "<Axes: >"
      ]
     },
     "execution_count": 23,
     "metadata": {},
     "output_type": "execute_result"
    },
    {
     "data": {
      "image/png": "[encoded data removed]",
      "text/plain": [
       "<Figure size 800x600 with 2 Axes>"
      ]
     },
     "metadata": {},
     "output_type": "display_data"
    }
   ],
   "source": [
    "corr = data_copy.corr()\n",
    "\n",
    "plt.figure(figsize=(8,6))\n",
    "sns.heatmap(corr,annot=True)"
   ]
  },
  {
   "cell_type": "markdown",
   "id": "8ddefaf1",
   "metadata": {},
   "source": [
    "Using the VIF values and correlation heatmap. We just need to check if there are any two attributes highly correlated to each other and then drop the one which is less correlated to the isFraud Attribute."
   ]
  },
  {
   "cell_type": "markdown",
   "id": "b708a3ef",
   "metadata": {},
   "source": [
    "# MODEL BUILDING"
   ]
  },
  {
   "cell_type": "code",
   "execution_count": 24,
   "id": "2f8f1f41",
   "metadata": {},
   "outputs": [],
   "source": [
    "from sklearn.preprocessing import StandardScaler\n",
    "from sklearn.model_selection import train_test_split\n",
    "from sklearn.ensemble import RandomForestClassifier\n",
    "from sklearn.tree import DecisionTreeClassifier\n",
    "import itertools\n",
    "from collections import Counter\n",
    "import sklearn.metrics as metrics\n",
    "from sklearn.metrics import classification_report, confusion_matrix, ConfusionMatrixDisplay"
   ]
  },
  {
   "cell_type": "markdown",
   "id": "1bcce128",
   "metadata": {},
   "source": [
    "SCALING"
   ]
  },
  {
   "cell_type": "code",
   "execution_count": 25,
   "id": "ef29d1d3",
   "metadata": {},
   "outputs": [],
   "source": [
    "scaler = StandardScaler()\n",
    "data_copy.drop([\"amount\"], inplace= True, axis= 1)\n",
    "\n",
    "Y = data_copy[\"isFraud\"]\n",
    "X = data_copy.drop([\"isFraud\"], axis= 1)"
   ]
  },
  {
   "cell_type": "markdown",
   "id": "cb3e8d0e",
   "metadata": {},
   "source": [
    "TRAIN-TEST SPLIT"
   ]
  },
  {
   "cell_type": "code",
   "execution_count": 26,
   "id": "e730af1d",
   "metadata": {},
   "outputs": [],
   "source": [
    "(X_train, X_test, Y_train, Y_test) = train_test_split(X, Y, test_size= 0.25, random_state= 42)"
   ]
  },
  {
   "cell_type": "markdown",
   "id": "0d8e599a",
   "metadata": {},
   "source": [
    "DECISION TREE"
   ]
  },
  {
   "cell_type": "code",
   "execution_count": 27,
   "id": "2c137a35",
   "metadata": {},
   "outputs": [],
   "source": [
    "decision_tree = DecisionTreeClassifier()\n",
    "decision_tree.fit(X_train, Y_train)\n",
    "\n",
    "Y_pred_DTC = decision_tree.predict(X_test)\n",
    "decision_tree_score = decision_tree.score(X_test, Y_test) * 100"
   ]
  },
  {
   "cell_type": "code",
   "execution_count": 46,
   "id": "1493663a",
   "metadata": {},
   "outputs": [],
   "source": [
    "random_forest = RandomForestClassifier(n_estimators=100)\n",
    "random_forest.fit(X_train, Y_train)\n",
    "\n",
    "Y_pred_RFC = random_forest.predict(X_test)\n",
    "random_forest_score = random_forest.score(X_test, Y_test) * 100"
   ]
  },
  {
   "cell_type": "markdown",
   "id": "12df5100",
   "metadata": {},
   "source": [
    "EVALUATION AND COMPARISON"
   ]
  },
  {
   "cell_type": "code",
   "execution_count": 47,
   "id": "497e6842",
   "metadata": {},
   "outputs": [
    {
     "data": {
      "text/plain": [
       "99.91714105195658"
      ]
     },
     "execution_count": 47,
     "metadata": {},
     "output_type": "execute_result"
    }
   ],
   "source": [
    "decision_tree_score"
   ]
  },
  {
   "cell_type": "code",
   "execution_count": 48,
   "id": "88baaa3e",
   "metadata": {},
   "outputs": [
    {
     "data": {
      "text/plain": [
       "99.95831905724371"
      ]
     },
     "execution_count": 48,
     "metadata": {},
     "output_type": "execute_result"
    }
   ],
   "source": [
    "random_forest_score"
   ]
  },
  {
   "cell_type": "markdown",
   "id": "b44b0611",
   "metadata": {},
   "source": [
    "It's obvious that the Random Forest performs better than the Decision Tree"
   ]
  },
  {
   "cell_type": "code",
   "execution_count": 52,
   "id": "99ca7edc",
   "metadata": {},
   "outputs": [
    {
     "data": {
      "text/plain": [
       "array([[1587901,     709],\n",
       "       [    609,    1436]])"
      ]
     },
     "execution_count": 52,
     "metadata": {},
     "output_type": "execute_result"
    }
   ],
   "source": [
    "confusion_matrix_DTC = confusion_matrix(Y_test, Y_pred_DTC.round())\n",
    "confusion_matrix_DTC"
   ]
  },
  {
   "cell_type": "code",
   "execution_count": 54,
   "id": "9bd8e4c3",
   "metadata": {},
   "outputs": [
    {
     "data": {
      "text/plain": [
       "array([[1588544,      66],\n",
       "       [    597,    1448]])"
      ]
     },
     "execution_count": 54,
     "metadata": {},
     "output_type": "execute_result"
    }
   ],
   "source": [
    "confusion_matrix_RFC = confusion_matrix(Y_test, Y_pred_RFC.round())\n",
    "confusion_matrix_RFC"
   ]
  },
  {
   "cell_type": "code",
   "execution_count": 55,
   "id": "466b814f",
   "metadata": {},
   "outputs": [
    {
     "data": {
      "text/plain": [
       "'              precision    recall  f1-score   support\\n\\n           0       1.00      1.00      1.00   1588610\\n           1       0.67      0.70      0.69      2045\\n\\n    accuracy                           1.00   1590655\\n   macro avg       0.83      0.85      0.84   1590655\\nweighted avg       1.00      1.00      1.00   1590655\\n'"
      ]
     },
     "execution_count": 55,
     "metadata": {},
     "output_type": "execute_result"
    }
   ],
   "source": [
    "classification_report_DTC = classification_report(Y_test, Y_pred_DTC)\n",
    "classification_report_DTC"
   ]
  },
  {
   "cell_type": "code",
   "execution_count": 56,
   "id": "d73889cd",
   "metadata": {},
   "outputs": [
    {
     "data": {
      "text/plain": [
       "'              precision    recall  f1-score   support\\n\\n           0       1.00      1.00      1.00   1588610\\n           1       0.96      0.71      0.81      2045\\n\\n    accuracy                           1.00   1590655\\n   macro avg       0.98      0.85      0.91   1590655\\nweighted avg       1.00      1.00      1.00   1590655\\n'"
      ]
     },
     "execution_count": 56,
     "metadata": {},
     "output_type": "execute_result"
    }
   ],
   "source": [
    "classification_report_RFC = classification_report(Y_test, Y_pred_RFC)\n",
    "classification_report_RFC"
   ]
  },
  {
   "cell_type": "markdown",
   "id": "6acae0f5",
   "metadata": {},
   "source": [
    "With Such a good precision and hence F1-Score, Random Forest comes out to be better."
   ]
  },
  {
   "cell_type": "code",
   "execution_count": 57,
   "id": "5f989005",
   "metadata": {},
   "outputs": [
    {
     "data": {
      "image/png": "[encoded data removed]",
      "text/plain": [
       "<Figure size 640x480 with 2 Axes>"
      ]
     },
     "metadata": {},
     "output_type": "display_data"
    }
   ],
   "source": [
    "disp = ConfusionMatrixDisplay(confusion_matrix=confusion_matrix_DTC)\n",
    "disp.plot()\n",
    "plt.title('Confusion Matrix - DTC')\n",
    "plt.show()"
   ]
  },
  {
   "cell_type": "code",
   "execution_count": 58,
   "id": "a7948bbb",
   "metadata": {},
   "outputs": [
    {
     "data": {
      "image/png": "[encoded data removed]",
      "text/plain": [
       "<Figure size 640x480 with 2 Axes>"
      ]
     },
     "metadata": {},
     "output_type": "display_data"
    }
   ],
   "source": [
    "disp = ConfusionMatrixDisplay(confusion_matrix=confusion_matrix_RFC)\n",
    "disp.plot()\n",
    "plt.title('Confusion Matrix - RFC')\n",
    "plt.show()"
   ]
  },
  {
   "cell_type": "code",
   "execution_count": 33,
   "id": "f27fd3f0",
   "metadata": {},
   "outputs": [
    {
     "name": "stdout",
     "output_type": "stream",
     "text": [
      "Requirement already satisfied: xgboost in /Users/bharathkalyan/anaconda3/lib/python3.10/site-packages (1.7.6)\n",
      "Requirement already satisfied: scipy in /Users/bharathkalyan/anaconda3/lib/python3.10/site-packages (from xgboost) (1.10.0)\n",
      "Requirement already satisfied: numpy in /Users/bharathkalyan/anaconda3/lib/python3.10/site-packages (from xgboost) (1.23.5)\n"
     ]
    }
   ],
   "source": [
    "!pip install xgboost"
   ]
  },
  {
   "cell_type": "code",
   "execution_count": 34,
   "id": "83bf6252",
   "metadata": {},
   "outputs": [],
   "source": [
    "import xgboost as xgb\n",
    "from sklearn.ensemble import AdaBoostClassifier\n",
    "from sklearn.ensemble import GradientBoostingClassifier"
   ]
  },
  {
   "cell_type": "code",
   "execution_count": 129,
   "id": "b7773a08",
   "metadata": {},
   "outputs": [],
   "source": [
    "from sklearn.metrics import accuracy_score"
   ]
  },
  {
   "cell_type": "code",
   "execution_count": 130,
   "id": "cd97f78e",
   "metadata": {},
   "outputs": [],
   "source": [
    "xgb_model = xgb.XGBClassifier(n_estimators=500, max_depth=5, learning_rate=0.0625)\n",
    "\n",
    "xgb_model.fit(X_train, Y_train)\n",
    "\n",
    "y_pred_xgb = xgb_model.predict(X_test)"
   ]
  },
  {
   "cell_type": "code",
   "execution_count": 131,
   "id": "2e4be98d",
   "metadata": {},
   "outputs": [
    {
     "data": {
      "text/plain": [
       "99.95976500246753"
      ]
     },
     "execution_count": 131,
     "metadata": {},
     "output_type": "execute_result"
    }
   ],
   "source": [
    "accuracy_xgb = accuracy_score(Y_test, y_pred_xgb)\n",
    "accuracy_xgb_score = accuracy_xgb * 100\n",
    "accuracy_xgb_score"
   ]
  },
  {
   "cell_type": "code",
   "execution_count": 110,
   "id": "0c24691a",
   "metadata": {},
   "outputs": [],
   "source": [
    "from sklearn.model_selection import GridSearchCV"
   ]
  },
  {
   "cell_type": "code",
   "execution_count": 100,
   "id": "8ad54554",
   "metadata": {
    "collapsed": true
   },
   "outputs": [
    {
     "name": "stdout",
     "output_type": "stream",
     "text": [
      "Fitting 5 folds for each of 24 candidates, totalling 120 fits\n"
     ]
    },
    {
     "ename": "KeyboardInterrupt",
     "evalue": "",
     "output_type": "error",
     "traceback": [
      "\u001b[0;31m---------------------------------------------------------------------------\u001b[0m",
      "\u001b[0;31mKeyboardInterrupt\u001b[0m                         Traceback (most recent call last)",
      "Cell \u001b[0;32mIn[100], line 10\u001b[0m\n\u001b[1;32m      6\u001b[0m xgb_model \u001b[38;5;241m=\u001b[39m xgb\u001b[38;5;241m.\u001b[39mXGBClassifier(random_state\u001b[38;5;241m=\u001b[39m\u001b[38;5;241m42\u001b[39m)\n\u001b[1;32m      8\u001b[0m grid_search \u001b[38;5;241m=\u001b[39m GridSearchCV(xgb_model, param_grid, cv\u001b[38;5;241m=\u001b[39m\u001b[38;5;241m5\u001b[39m, scoring\u001b[38;5;241m=\u001b[39m\u001b[38;5;124m'\u001b[39m\u001b[38;5;124maccuracy\u001b[39m\u001b[38;5;124m'\u001b[39m, verbose\u001b[38;5;241m=\u001b[39m\u001b[38;5;241m1\u001b[39m, n_jobs\u001b[38;5;241m=\u001b[39m\u001b[38;5;241m-\u001b[39m\u001b[38;5;241m1\u001b[39m)\n\u001b[0;32m---> 10\u001b[0m \u001b[43mgrid_search\u001b[49m\u001b[38;5;241;43m.\u001b[39;49m\u001b[43mfit\u001b[49m\u001b[43m(\u001b[49m\u001b[43mX_train\u001b[49m\u001b[43m,\u001b[49m\u001b[43m \u001b[49m\u001b[43mY_train\u001b[49m\u001b[43m)\u001b[49m\n\u001b[1;32m     12\u001b[0m best_params \u001b[38;5;241m=\u001b[39m grid_search\u001b[38;5;241m.\u001b[39mbest_params_\n\u001b[1;32m     13\u001b[0m \u001b[38;5;28mprint\u001b[39m(\u001b[38;5;124m\"\u001b[39m\u001b[38;5;124mBest Hyperparameters:\u001b[39m\u001b[38;5;124m\"\u001b[39m, best_params)\n",
      "File \u001b[0;32m~/anaconda3/lib/python3.10/site-packages/sklearn/model_selection/_search.py:874\u001b[0m, in \u001b[0;36mBaseSearchCV.fit\u001b[0;34m(self, X, y, groups, **fit_params)\u001b[0m\n\u001b[1;32m    868\u001b[0m     results \u001b[38;5;241m=\u001b[39m \u001b[38;5;28mself\u001b[39m\u001b[38;5;241m.\u001b[39m_format_results(\n\u001b[1;32m    869\u001b[0m         all_candidate_params, n_splits, all_out, all_more_results\n\u001b[1;32m    870\u001b[0m     )\n\u001b[1;32m    872\u001b[0m     \u001b[38;5;28;01mreturn\u001b[39;00m results\n\u001b[0;32m--> 874\u001b[0m \u001b[38;5;28;43mself\u001b[39;49m\u001b[38;5;241;43m.\u001b[39;49m\u001b[43m_run_search\u001b[49m\u001b[43m(\u001b[49m\u001b[43mevaluate_candidates\u001b[49m\u001b[43m)\u001b[49m\n\u001b[1;32m    876\u001b[0m \u001b[38;5;66;03m# multimetric is determined here because in the case of a callable\u001b[39;00m\n\u001b[1;32m    877\u001b[0m \u001b[38;5;66;03m# self.scoring the return type is only known after calling\u001b[39;00m\n\u001b[1;32m    878\u001b[0m first_test_score \u001b[38;5;241m=\u001b[39m all_out[\u001b[38;5;241m0\u001b[39m][\u001b[38;5;124m\"\u001b[39m\u001b[38;5;124mtest_scores\u001b[39m\u001b[38;5;124m\"\u001b[39m]\n",
      "File \u001b[0;32m~/anaconda3/lib/python3.10/site-packages/sklearn/model_selection/_search.py:1388\u001b[0m, in \u001b[0;36mGridSearchCV._run_search\u001b[0;34m(self, evaluate_candidates)\u001b[0m\n\u001b[1;32m   1386\u001b[0m \u001b[38;5;28;01mdef\u001b[39;00m \u001b[38;5;21m_run_search\u001b[39m(\u001b[38;5;28mself\u001b[39m, evaluate_candidates):\n\u001b[1;32m   1387\u001b[0m     \u001b[38;5;124;03m\"\"\"Search all candidates in param_grid\"\"\"\u001b[39;00m\n\u001b[0;32m-> 1388\u001b[0m     \u001b[43mevaluate_candidates\u001b[49m\u001b[43m(\u001b[49m\u001b[43mParameterGrid\u001b[49m\u001b[43m(\u001b[49m\u001b[38;5;28;43mself\u001b[39;49m\u001b[38;5;241;43m.\u001b[39;49m\u001b[43mparam_grid\u001b[49m\u001b[43m)\u001b[49m\u001b[43m)\u001b[49m\n",
      "File \u001b[0;32m~/anaconda3/lib/python3.10/site-packages/sklearn/model_selection/_search.py:821\u001b[0m, in \u001b[0;36mBaseSearchCV.fit.<locals>.evaluate_candidates\u001b[0;34m(candidate_params, cv, more_results)\u001b[0m\n\u001b[1;32m    813\u001b[0m \u001b[38;5;28;01mif\u001b[39;00m \u001b[38;5;28mself\u001b[39m\u001b[38;5;241m.\u001b[39mverbose \u001b[38;5;241m>\u001b[39m \u001b[38;5;241m0\u001b[39m:\n\u001b[1;32m    814\u001b[0m     \u001b[38;5;28mprint\u001b[39m(\n\u001b[1;32m    815\u001b[0m         \u001b[38;5;124m\"\u001b[39m\u001b[38;5;124mFitting \u001b[39m\u001b[38;5;132;01m{0}\u001b[39;00m\u001b[38;5;124m folds for each of \u001b[39m\u001b[38;5;132;01m{1}\u001b[39;00m\u001b[38;5;124m candidates,\u001b[39m\u001b[38;5;124m\"\u001b[39m\n\u001b[1;32m    816\u001b[0m         \u001b[38;5;124m\"\u001b[39m\u001b[38;5;124m totalling \u001b[39m\u001b[38;5;132;01m{2}\u001b[39;00m\u001b[38;5;124m fits\u001b[39m\u001b[38;5;124m\"\u001b[39m\u001b[38;5;241m.\u001b[39mformat(\n\u001b[1;32m    817\u001b[0m             n_splits, n_candidates, n_candidates \u001b[38;5;241m*\u001b[39m n_splits\n\u001b[1;32m    818\u001b[0m         )\n\u001b[1;32m    819\u001b[0m     )\n\u001b[0;32m--> 821\u001b[0m out \u001b[38;5;241m=\u001b[39m \u001b[43mparallel\u001b[49m\u001b[43m(\u001b[49m\n\u001b[1;32m    822\u001b[0m \u001b[43m    \u001b[49m\u001b[43mdelayed\u001b[49m\u001b[43m(\u001b[49m\u001b[43m_fit_and_score\u001b[49m\u001b[43m)\u001b[49m\u001b[43m(\u001b[49m\n\u001b[1;32m    823\u001b[0m \u001b[43m        \u001b[49m\u001b[43mclone\u001b[49m\u001b[43m(\u001b[49m\u001b[43mbase_estimator\u001b[49m\u001b[43m)\u001b[49m\u001b[43m,\u001b[49m\n\u001b[1;32m    824\u001b[0m \u001b[43m        \u001b[49m\u001b[43mX\u001b[49m\u001b[43m,\u001b[49m\n\u001b[1;32m    825\u001b[0m \u001b[43m        \u001b[49m\u001b[43my\u001b[49m\u001b[43m,\u001b[49m\n\u001b[1;32m    826\u001b[0m \u001b[43m        \u001b[49m\u001b[43mtrain\u001b[49m\u001b[38;5;241;43m=\u001b[39;49m\u001b[43mtrain\u001b[49m\u001b[43m,\u001b[49m\n\u001b[1;32m    827\u001b[0m \u001b[43m        \u001b[49m\u001b[43mtest\u001b[49m\u001b[38;5;241;43m=\u001b[39;49m\u001b[43mtest\u001b[49m\u001b[43m,\u001b[49m\n\u001b[1;32m    828\u001b[0m \u001b[43m        \u001b[49m\u001b[43mparameters\u001b[49m\u001b[38;5;241;43m=\u001b[39;49m\u001b[43mparameters\u001b[49m\u001b[43m,\u001b[49m\n\u001b[1;32m    829\u001b[0m \u001b[43m        \u001b[49m\u001b[43msplit_progress\u001b[49m\u001b[38;5;241;43m=\u001b[39;49m\u001b[43m(\u001b[49m\u001b[43msplit_idx\u001b[49m\u001b[43m,\u001b[49m\u001b[43m \u001b[49m\u001b[43mn_splits\u001b[49m\u001b[43m)\u001b[49m\u001b[43m,\u001b[49m\n\u001b[1;32m    830\u001b[0m \u001b[43m        \u001b[49m\u001b[43mcandidate_progress\u001b[49m\u001b[38;5;241;43m=\u001b[39;49m\u001b[43m(\u001b[49m\u001b[43mcand_idx\u001b[49m\u001b[43m,\u001b[49m\u001b[43m \u001b[49m\u001b[43mn_candidates\u001b[49m\u001b[43m)\u001b[49m\u001b[43m,\u001b[49m\n\u001b[1;32m    831\u001b[0m \u001b[43m        \u001b[49m\u001b[38;5;241;43m*\u001b[39;49m\u001b[38;5;241;43m*\u001b[39;49m\u001b[43mfit_and_score_kwargs\u001b[49m\u001b[43m,\u001b[49m\n\u001b[1;32m    832\u001b[0m \u001b[43m    \u001b[49m\u001b[43m)\u001b[49m\n\u001b[1;32m    833\u001b[0m \u001b[43m    \u001b[49m\u001b[38;5;28;43;01mfor\u001b[39;49;00m\u001b[43m \u001b[49m\u001b[43m(\u001b[49m\u001b[43mcand_idx\u001b[49m\u001b[43m,\u001b[49m\u001b[43m \u001b[49m\u001b[43mparameters\u001b[49m\u001b[43m)\u001b[49m\u001b[43m,\u001b[49m\u001b[43m \u001b[49m\u001b[43m(\u001b[49m\u001b[43msplit_idx\u001b[49m\u001b[43m,\u001b[49m\u001b[43m \u001b[49m\u001b[43m(\u001b[49m\u001b[43mtrain\u001b[49m\u001b[43m,\u001b[49m\u001b[43m \u001b[49m\u001b[43mtest\u001b[49m\u001b[43m)\u001b[49m\u001b[43m)\u001b[49m\u001b[43m \u001b[49m\u001b[38;5;129;43;01min\u001b[39;49;00m\u001b[43m \u001b[49m\u001b[43mproduct\u001b[49m\u001b[43m(\u001b[49m\n\u001b[1;32m    834\u001b[0m \u001b[43m        \u001b[49m\u001b[38;5;28;43menumerate\u001b[39;49m\u001b[43m(\u001b[49m\u001b[43mcandidate_params\u001b[49m\u001b[43m)\u001b[49m\u001b[43m,\u001b[49m\u001b[43m \u001b[49m\u001b[38;5;28;43menumerate\u001b[39;49m\u001b[43m(\u001b[49m\u001b[43mcv\u001b[49m\u001b[38;5;241;43m.\u001b[39;49m\u001b[43msplit\u001b[49m\u001b[43m(\u001b[49m\u001b[43mX\u001b[49m\u001b[43m,\u001b[49m\u001b[43m \u001b[49m\u001b[43my\u001b[49m\u001b[43m,\u001b[49m\u001b[43m \u001b[49m\u001b[43mgroups\u001b[49m\u001b[43m)\u001b[49m\u001b[43m)\u001b[49m\n\u001b[1;32m    835\u001b[0m \u001b[43m    \u001b[49m\u001b[43m)\u001b[49m\n\u001b[1;32m    836\u001b[0m \u001b[43m\u001b[49m\u001b[43m)\u001b[49m\n\u001b[1;32m    838\u001b[0m \u001b[38;5;28;01mif\u001b[39;00m \u001b[38;5;28mlen\u001b[39m(out) \u001b[38;5;241m<\u001b[39m \u001b[38;5;241m1\u001b[39m:\n\u001b[1;32m    839\u001b[0m     \u001b[38;5;28;01mraise\u001b[39;00m \u001b[38;5;167;01mValueError\u001b[39;00m(\n\u001b[1;32m    840\u001b[0m         \u001b[38;5;124m\"\u001b[39m\u001b[38;5;124mNo fits were performed. \u001b[39m\u001b[38;5;124m\"\u001b[39m\n\u001b[1;32m    841\u001b[0m         \u001b[38;5;124m\"\u001b[39m\u001b[38;5;124mWas the CV iterator empty? \u001b[39m\u001b[38;5;124m\"\u001b[39m\n\u001b[1;32m    842\u001b[0m         \u001b[38;5;124m\"\u001b[39m\u001b[38;5;124mWere there no candidates?\u001b[39m\u001b[38;5;124m\"\u001b[39m\n\u001b[1;32m    843\u001b[0m     )\n",
      "File \u001b[0;32m~/anaconda3/lib/python3.10/site-packages/sklearn/utils/parallel.py:63\u001b[0m, in \u001b[0;36mParallel.__call__\u001b[0;34m(self, iterable)\u001b[0m\n\u001b[1;32m     58\u001b[0m config \u001b[38;5;241m=\u001b[39m get_config()\n\u001b[1;32m     59\u001b[0m iterable_with_config \u001b[38;5;241m=\u001b[39m (\n\u001b[1;32m     60\u001b[0m     (_with_config(delayed_func, config), args, kwargs)\n\u001b[1;32m     61\u001b[0m     \u001b[38;5;28;01mfor\u001b[39;00m delayed_func, args, kwargs \u001b[38;5;129;01min\u001b[39;00m iterable\n\u001b[1;32m     62\u001b[0m )\n\u001b[0;32m---> 63\u001b[0m \u001b[38;5;28;01mreturn\u001b[39;00m \u001b[38;5;28;43msuper\u001b[39;49m\u001b[43m(\u001b[49m\u001b[43m)\u001b[49m\u001b[38;5;241;43m.\u001b[39;49m\u001b[38;5;21;43m__call__\u001b[39;49m\u001b[43m(\u001b[49m\u001b[43miterable_with_config\u001b[49m\u001b[43m)\u001b[49m\n",
      "File \u001b[0;32m~/anaconda3/lib/python3.10/site-packages/joblib/parallel.py:1061\u001b[0m, in \u001b[0;36mParallel.__call__\u001b[0;34m(self, iterable)\u001b[0m\n\u001b[1;32m   1058\u001b[0m     \u001b[38;5;28mself\u001b[39m\u001b[38;5;241m.\u001b[39m_iterating \u001b[38;5;241m=\u001b[39m \u001b[38;5;28;01mFalse\u001b[39;00m\n\u001b[1;32m   1060\u001b[0m \u001b[38;5;28;01mwith\u001b[39;00m \u001b[38;5;28mself\u001b[39m\u001b[38;5;241m.\u001b[39m_backend\u001b[38;5;241m.\u001b[39mretrieval_context():\n\u001b[0;32m-> 1061\u001b[0m     \u001b[38;5;28;43mself\u001b[39;49m\u001b[38;5;241;43m.\u001b[39;49m\u001b[43mretrieve\u001b[49m\u001b[43m(\u001b[49m\u001b[43m)\u001b[49m\n\u001b[1;32m   1062\u001b[0m \u001b[38;5;66;03m# Make sure that we get a last message telling us we are done\u001b[39;00m\n\u001b[1;32m   1063\u001b[0m elapsed_time \u001b[38;5;241m=\u001b[39m time\u001b[38;5;241m.\u001b[39mtime() \u001b[38;5;241m-\u001b[39m \u001b[38;5;28mself\u001b[39m\u001b[38;5;241m.\u001b[39m_start_time\n",
      "File \u001b[0;32m~/anaconda3/lib/python3.10/site-packages/joblib/parallel.py:938\u001b[0m, in \u001b[0;36mParallel.retrieve\u001b[0;34m(self)\u001b[0m\n\u001b[1;32m    936\u001b[0m \u001b[38;5;28;01mtry\u001b[39;00m:\n\u001b[1;32m    937\u001b[0m     \u001b[38;5;28;01mif\u001b[39;00m \u001b[38;5;28mgetattr\u001b[39m(\u001b[38;5;28mself\u001b[39m\u001b[38;5;241m.\u001b[39m_backend, \u001b[38;5;124m'\u001b[39m\u001b[38;5;124msupports_timeout\u001b[39m\u001b[38;5;124m'\u001b[39m, \u001b[38;5;28;01mFalse\u001b[39;00m):\n\u001b[0;32m--> 938\u001b[0m         \u001b[38;5;28mself\u001b[39m\u001b[38;5;241m.\u001b[39m_output\u001b[38;5;241m.\u001b[39mextend(\u001b[43mjob\u001b[49m\u001b[38;5;241;43m.\u001b[39;49m\u001b[43mget\u001b[49m\u001b[43m(\u001b[49m\u001b[43mtimeout\u001b[49m\u001b[38;5;241;43m=\u001b[39;49m\u001b[38;5;28;43mself\u001b[39;49m\u001b[38;5;241;43m.\u001b[39;49m\u001b[43mtimeout\u001b[49m\u001b[43m)\u001b[49m)\n\u001b[1;32m    939\u001b[0m     \u001b[38;5;28;01melse\u001b[39;00m:\n\u001b[1;32m    940\u001b[0m         \u001b[38;5;28mself\u001b[39m\u001b[38;5;241m.\u001b[39m_output\u001b[38;5;241m.\u001b[39mextend(job\u001b[38;5;241m.\u001b[39mget())\n",
      "File \u001b[0;32m~/anaconda3/lib/python3.10/site-packages/joblib/_parallel_backends.py:542\u001b[0m, in \u001b[0;36mLokyBackend.wrap_future_result\u001b[0;34m(future, timeout)\u001b[0m\n\u001b[1;32m    539\u001b[0m \u001b[38;5;124;03m\"\"\"Wrapper for Future.result to implement the same behaviour as\u001b[39;00m\n\u001b[1;32m    540\u001b[0m \u001b[38;5;124;03mAsyncResults.get from multiprocessing.\"\"\"\u001b[39;00m\n\u001b[1;32m    541\u001b[0m \u001b[38;5;28;01mtry\u001b[39;00m:\n\u001b[0;32m--> 542\u001b[0m     \u001b[38;5;28;01mreturn\u001b[39;00m \u001b[43mfuture\u001b[49m\u001b[38;5;241;43m.\u001b[39;49m\u001b[43mresult\u001b[49m\u001b[43m(\u001b[49m\u001b[43mtimeout\u001b[49m\u001b[38;5;241;43m=\u001b[39;49m\u001b[43mtimeout\u001b[49m\u001b[43m)\u001b[49m\n\u001b[1;32m    543\u001b[0m \u001b[38;5;28;01mexcept\u001b[39;00m CfTimeoutError \u001b[38;5;28;01mas\u001b[39;00m e:\n\u001b[1;32m    544\u001b[0m     \u001b[38;5;28;01mraise\u001b[39;00m \u001b[38;5;167;01mTimeoutError\u001b[39;00m \u001b[38;5;28;01mfrom\u001b[39;00m \u001b[38;5;21;01me\u001b[39;00m\n",
      "File \u001b[0;32m~/anaconda3/lib/python3.10/concurrent/futures/_base.py:453\u001b[0m, in \u001b[0;36mFuture.result\u001b[0;34m(self, timeout)\u001b[0m\n\u001b[1;32m    450\u001b[0m \u001b[38;5;28;01melif\u001b[39;00m \u001b[38;5;28mself\u001b[39m\u001b[38;5;241m.\u001b[39m_state \u001b[38;5;241m==\u001b[39m FINISHED:\n\u001b[1;32m    451\u001b[0m     \u001b[38;5;28;01mreturn\u001b[39;00m \u001b[38;5;28mself\u001b[39m\u001b[38;5;241m.\u001b[39m__get_result()\n\u001b[0;32m--> 453\u001b[0m \u001b[38;5;28;43mself\u001b[39;49m\u001b[38;5;241;43m.\u001b[39;49m\u001b[43m_condition\u001b[49m\u001b[38;5;241;43m.\u001b[39;49m\u001b[43mwait\u001b[49m\u001b[43m(\u001b[49m\u001b[43mtimeout\u001b[49m\u001b[43m)\u001b[49m\n\u001b[1;32m    455\u001b[0m \u001b[38;5;28;01mif\u001b[39;00m \u001b[38;5;28mself\u001b[39m\u001b[38;5;241m.\u001b[39m_state \u001b[38;5;129;01min\u001b[39;00m [CANCELLED, CANCELLED_AND_NOTIFIED]:\n\u001b[1;32m    456\u001b[0m     \u001b[38;5;28;01mraise\u001b[39;00m CancelledError()\n",
      "File \u001b[0;32m~/anaconda3/lib/python3.10/threading.py:320\u001b[0m, in \u001b[0;36mCondition.wait\u001b[0;34m(self, timeout)\u001b[0m\n\u001b[1;32m    318\u001b[0m \u001b[38;5;28;01mtry\u001b[39;00m:    \u001b[38;5;66;03m# restore state no matter what (e.g., KeyboardInterrupt)\u001b[39;00m\n\u001b[1;32m    319\u001b[0m     \u001b[38;5;28;01mif\u001b[39;00m timeout \u001b[38;5;129;01mis\u001b[39;00m \u001b[38;5;28;01mNone\u001b[39;00m:\n\u001b[0;32m--> 320\u001b[0m         \u001b[43mwaiter\u001b[49m\u001b[38;5;241;43m.\u001b[39;49m\u001b[43macquire\u001b[49m\u001b[43m(\u001b[49m\u001b[43m)\u001b[49m\n\u001b[1;32m    321\u001b[0m         gotit \u001b[38;5;241m=\u001b[39m \u001b[38;5;28;01mTrue\u001b[39;00m\n\u001b[1;32m    322\u001b[0m     \u001b[38;5;28;01melse\u001b[39;00m:\n",
      "\u001b[0;31mKeyboardInterrupt\u001b[0m: "
     ]
    }
   ],
   "source": [
    "param_grid = {\n",
    "    'n_estimators': [200, 250, 300, 350, 400, 450, 500, 550],     \n",
    "    'max_depth': [3, 4, 5],               \n",
    "}\n",
    "\n",
    "xgb_model = xgb.XGBClassifier(random_state=42)\n",
    "\n",
    "grid_search = GridSearchCV(xgb_model, param_grid, cv=5, scoring='accuracy', verbose=1, n_jobs=-1)\n",
    "\n",
    "grid_search.fit(X_train, Y_train)\n",
    "\n",
    "best_params = grid_search.best_params_\n",
    "print(\"Best Hyperparameters:\", best_params)\n",
    "\n",
    "best_model = grid_search.best_estimator_\n",
    "\n",
    "Y_pred = best_model.predict(X_test)\n",
    "\n",
    "accuracy = accuracy_score(Y_test, Y_pred)\n",
    "print(\"Test Accuracy:\", accuracy)"
   ]
  },
  {
   "cell_type": "code",
   "execution_count": 125,
   "id": "857d0141",
   "metadata": {},
   "outputs": [
    {
     "data": {
      "text/plain": [
       "99.89589194388475"
      ]
     },
     "execution_count": 125,
     "metadata": {},
     "output_type": "execute_result"
    }
   ],
   "source": [
    "# Create an AdaBoost classifier\n",
    "Ada_model = AdaBoostClassifier(n_estimators=500, learning_rate=0.025)\n",
    "\n",
    "Ada_model.fit(X_train, Y_train)\n",
    "\n",
    "y_pred_Ada = Ada_model.predict(X_test)\n",
    "\n",
    "accuracy_Ada = accuracy_score(Y_test, y_pred_Ada)\n",
    "accuracy_Ada_score = accuracy_Ada * 100\n",
    "accuracy_Ada_score"
   ]
  },
  {
   "cell_type": "code",
   "execution_count": 120,
   "id": "36763f03",
   "metadata": {},
   "outputs": [
    {
     "data": {
      "text/plain": [
       "99.95530143242878"
      ]
     },
     "execution_count": 120,
     "metadata": {},
     "output_type": "execute_result"
    }
   ],
   "source": [
    "# Create a Gradient Boosting classifier\n",
    "Gb_model = GradientBoostingClassifier(n_estimators=500, max_depth=5, learning_rate=0.02)\n",
    "\n",
    "Gb_model.fit(X_train, Y_train)\n",
    "\n",
    "y_pred_Gb = Gb_model.predict(X_test)\n",
    "\n",
    "accuracy_Gb = accuracy_score(Y_test, y_pred_Gb)\n",
    "accuracy_Gb_score = accuracy_Gb * 100\n",
    "accuracy_Gb_score"
   ]
  },
  {
   "cell_type": "markdown",
   "id": "b214a18a",
   "metadata": {},
   "source": [
    "We can see that the XGBoost model outperforms both AdaBoost and Gradient Boosting "
   ]
  },
  {
   "cell_type": "code",
   "execution_count": 133,
   "id": "d05bce41",
   "metadata": {},
   "outputs": [
    {
     "name": "stdout",
     "output_type": "stream",
     "text": [
      "Collecting catboost\n",
      "  Downloading catboost-1.2.1-cp310-cp310-macosx_11_0_universal2.whl (25.7 MB)\n",
      "\u001b[2K     \u001b[90m━━━━━━━━━━━━━━━━━━━━━━━━━━━━━━━━━━━━━━━━\u001b[0m \u001b[32m25.7/25.7 MB\u001b[0m \u001b[31m9.1 MB/s\u001b[0m eta \u001b[36m0:00:00\u001b[0m00:01\u001b[0m:00:01\u001b[0m\n",
      "\u001b[?25hRequirement already satisfied: six in /Users/bharathkalyan/anaconda3/lib/python3.10/site-packages (from catboost) (1.16.0)\n",
      "Requirement already satisfied: matplotlib in /Users/bharathkalyan/anaconda3/lib/python3.10/site-packages (from catboost) (3.7.0)\n",
      "Requirement already satisfied: numpy>=1.16.0 in /Users/bharathkalyan/anaconda3/lib/python3.10/site-packages (from catboost) (1.23.5)\n",
      "Requirement already satisfied: pandas>=0.24 in /Users/bharathkalyan/anaconda3/lib/python3.10/site-packages (from catboost) (1.5.3)\n",
      "Requirement already satisfied: plotly in /Users/bharathkalyan/anaconda3/lib/python3.10/site-packages (from catboost) (5.15.0)\n",
      "Requirement already satisfied: scipy in /Users/bharathkalyan/anaconda3/lib/python3.10/site-packages (from catboost) (1.10.0)\n",
      "Collecting graphviz\n",
      "  Downloading graphviz-0.20.1-py3-none-any.whl (47 kB)\n",
      "\u001b[2K     \u001b[90m━━━━━━━━━━━━━━━━━━━━━━━━━━━━━━━━━━━━━━━━\u001b[0m \u001b[32m47.0/47.0 kB\u001b[0m \u001b[31m3.8 MB/s\u001b[0m eta \u001b[36m0:00:00\u001b[0m\n",
      "\u001b[?25hRequirement already satisfied: python-dateutil>=2.8.1 in /Users/bharathkalyan/anaconda3/lib/python3.10/site-packages (from pandas>=0.24->catboost) (2.8.2)\n",
      "Requirement already satisfied: pytz>=2020.1 in /Users/bharathkalyan/anaconda3/lib/python3.10/site-packages (from pandas>=0.24->catboost) (2022.7)\n",
      "Requirement already satisfied: pyparsing>=2.3.1 in /Users/bharathkalyan/anaconda3/lib/python3.10/site-packages (from matplotlib->catboost) (3.0.9)\n",
      "Requirement already satisfied: contourpy>=1.0.1 in /Users/bharathkalyan/anaconda3/lib/python3.10/site-packages (from matplotlib->catboost) (1.0.5)\n",
      "Requirement already satisfied: packaging>=20.0 in /Users/bharathkalyan/anaconda3/lib/python3.10/site-packages (from matplotlib->catboost) (22.0)\n",
      "Requirement already satisfied: kiwisolver>=1.0.1 in /Users/bharathkalyan/anaconda3/lib/python3.10/site-packages (from matplotlib->catboost) (1.4.4)\n",
      "Requirement already satisfied: fonttools>=4.22.0 in /Users/bharathkalyan/anaconda3/lib/python3.10/site-packages (from matplotlib->catboost) (4.25.0)\n",
      "Requirement already satisfied: cycler>=0.10 in /Users/bharathkalyan/anaconda3/lib/python3.10/site-packages (from matplotlib->catboost) (0.11.0)\n",
      "Requirement already satisfied: pillow>=6.2.0 in /Users/bharathkalyan/anaconda3/lib/python3.10/site-packages (from matplotlib->catboost) (9.4.0)\n",
      "Requirement already satisfied: tenacity>=6.2.0 in /Users/bharathkalyan/anaconda3/lib/python3.10/site-packages (from plotly->catboost) (8.0.1)\n",
      "Installing collected packages: graphviz, catboost\n",
      "Successfully installed catboost-1.2.1 graphviz-0.20.1\n"
     ]
    }
   ],
   "source": [
    "!pip install catboost"
   ]
  },
  {
   "cell_type": "code",
   "execution_count": 134,
   "id": "e6070692",
   "metadata": {},
   "outputs": [
    {
     "name": "stdout",
     "output_type": "stream",
     "text": [
      "0:\tlearn: 0.4404427\ttotal: 453ms\tremaining: 3m 45s\n",
      "1:\tlearn: 0.2782572\ttotal: 841ms\tremaining: 3m 29s\n",
      "2:\tlearn: 0.1871013\ttotal: 1.09s\tremaining: 3m 1s\n",
      "3:\tlearn: 0.1279907\ttotal: 1.32s\tremaining: 2m 44s\n",
      "4:\tlearn: 0.0896672\ttotal: 1.58s\tremaining: 2m 36s\n",
      "5:\tlearn: 0.0641919\ttotal: 1.79s\tremaining: 2m 27s\n",
      "6:\tlearn: 0.0437264\ttotal: 2.01s\tremaining: 2m 21s\n",
      "7:\tlearn: 0.0329443\ttotal: 2.23s\tremaining: 2m 17s\n",
      "8:\tlearn: 0.0239413\ttotal: 2.44s\tremaining: 2m 13s\n",
      "9:\tlearn: 0.0189885\ttotal: 2.63s\tremaining: 2m 8s\n",
      "10:\tlearn: 0.0145263\ttotal: 2.85s\tremaining: 2m 6s\n",
      "11:\tlearn: 0.0120796\ttotal: 3.05s\tremaining: 2m 3s\n",
      "12:\tlearn: 0.0102561\ttotal: 3.26s\tremaining: 2m 2s\n",
      "13:\tlearn: 0.0084502\ttotal: 3.48s\tremaining: 2m\n",
      "14:\tlearn: 0.0074607\ttotal: 3.75s\tremaining: 2m 1s\n",
      "15:\tlearn: 0.0064186\ttotal: 3.96s\tremaining: 1m 59s\n",
      "16:\tlearn: 0.0058511\ttotal: 4.22s\tremaining: 1m 59s\n",
      "17:\tlearn: 0.0052252\ttotal: 4.42s\tremaining: 1m 58s\n",
      "18:\tlearn: 0.0047330\ttotal: 4.62s\tremaining: 1m 56s\n",
      "19:\tlearn: 0.0043536\ttotal: 4.81s\tremaining: 1m 55s\n",
      "20:\tlearn: 0.0041426\ttotal: 5.02s\tremaining: 1m 54s\n",
      "21:\tlearn: 0.0039694\ttotal: 5.21s\tremaining: 1m 53s\n",
      "22:\tlearn: 0.0037537\ttotal: 5.41s\tremaining: 1m 52s\n",
      "23:\tlearn: 0.0035754\ttotal: 5.6s\tremaining: 1m 51s\n",
      "24:\tlearn: 0.0034443\ttotal: 5.8s\tremaining: 1m 50s\n",
      "25:\tlearn: 0.0033255\ttotal: 5.99s\tremaining: 1m 49s\n",
      "26:\tlearn: 0.0032351\ttotal: 6.15s\tremaining: 1m 47s\n",
      "27:\tlearn: 0.0031784\ttotal: 6.37s\tremaining: 1m 47s\n",
      "28:\tlearn: 0.0031081\ttotal: 6.62s\tremaining: 1m 47s\n",
      "29:\tlearn: 0.0030513\ttotal: 6.8s\tremaining: 1m 46s\n",
      "30:\tlearn: 0.0030192\ttotal: 7.01s\tremaining: 1m 46s\n",
      "31:\tlearn: 0.0029743\ttotal: 7.19s\tremaining: 1m 45s\n",
      "32:\tlearn: 0.0029398\ttotal: 7.37s\tremaining: 1m 44s\n",
      "33:\tlearn: 0.0029069\ttotal: 7.55s\tremaining: 1m 43s\n",
      "34:\tlearn: 0.0028810\ttotal: 7.73s\tremaining: 1m 42s\n",
      "35:\tlearn: 0.0028651\ttotal: 7.94s\tremaining: 1m 42s\n",
      "36:\tlearn: 0.0028437\ttotal: 8.13s\tremaining: 1m 41s\n",
      "37:\tlearn: 0.0028261\ttotal: 8.33s\tremaining: 1m 41s\n",
      "38:\tlearn: 0.0028154\ttotal: 8.51s\tremaining: 1m 40s\n",
      "39:\tlearn: 0.0027737\ttotal: 8.71s\tremaining: 1m 40s\n",
      "40:\tlearn: 0.0027655\ttotal: 8.91s\tremaining: 1m 39s\n",
      "41:\tlearn: 0.0027342\ttotal: 9.11s\tremaining: 1m 39s\n",
      "42:\tlearn: 0.0027266\ttotal: 9.33s\tremaining: 1m 39s\n",
      "43:\tlearn: 0.0027160\ttotal: 9.56s\tremaining: 1m 39s\n",
      "44:\tlearn: 0.0027083\ttotal: 9.82s\tremaining: 1m 39s\n",
      "45:\tlearn: 0.0026881\ttotal: 10.1s\tremaining: 1m 39s\n",
      "46:\tlearn: 0.0026869\ttotal: 10.3s\tremaining: 1m 39s\n",
      "47:\tlearn: 0.0026845\ttotal: 10.5s\tremaining: 1m 38s\n",
      "48:\tlearn: 0.0026607\ttotal: 10.7s\tremaining: 1m 38s\n",
      "49:\tlearn: 0.0026553\ttotal: 10.9s\tremaining: 1m 37s\n",
      "50:\tlearn: 0.0026372\ttotal: 11.1s\tremaining: 1m 37s\n",
      "51:\tlearn: 0.0026165\ttotal: 11.3s\tremaining: 1m 37s\n",
      "52:\tlearn: 0.0026122\ttotal: 11.5s\tremaining: 1m 37s\n",
      "53:\tlearn: 0.0026018\ttotal: 11.7s\tremaining: 1m 37s\n",
      "54:\tlearn: 0.0025979\ttotal: 12s\tremaining: 1m 36s\n",
      "55:\tlearn: 0.0025844\ttotal: 12.1s\tremaining: 1m 36s\n",
      "56:\tlearn: 0.0025690\ttotal: 12.3s\tremaining: 1m 35s\n",
      "57:\tlearn: 0.0025565\ttotal: 12.6s\tremaining: 1m 35s\n",
      "58:\tlearn: 0.0025450\ttotal: 12.8s\tremaining: 1m 35s\n",
      "59:\tlearn: 0.0025366\ttotal: 13s\tremaining: 1m 35s\n",
      "60:\tlearn: 0.0025293\ttotal: 13.3s\tremaining: 1m 35s\n",
      "61:\tlearn: 0.0025237\ttotal: 13.5s\tremaining: 1m 35s\n",
      "62:\tlearn: 0.0025183\ttotal: 13.7s\tremaining: 1m 34s\n",
      "63:\tlearn: 0.0025112\ttotal: 13.9s\tremaining: 1m 34s\n",
      "64:\tlearn: 0.0025092\ttotal: 14.1s\tremaining: 1m 34s\n",
      "65:\tlearn: 0.0025012\ttotal: 14.3s\tremaining: 1m 33s\n",
      "66:\tlearn: 0.0024991\ttotal: 14.5s\tremaining: 1m 33s\n",
      "67:\tlearn: 0.0024978\ttotal: 14.7s\tremaining: 1m 33s\n",
      "68:\tlearn: 0.0024939\ttotal: 14.9s\tremaining: 1m 32s\n",
      "69:\tlearn: 0.0024923\ttotal: 15.1s\tremaining: 1m 32s\n",
      "70:\tlearn: 0.0024908\ttotal: 15.3s\tremaining: 1m 32s\n",
      "71:\tlearn: 0.0024884\ttotal: 15.6s\tremaining: 1m 32s\n",
      "72:\tlearn: 0.0024880\ttotal: 15.8s\tremaining: 1m 32s\n",
      "73:\tlearn: 0.0024867\ttotal: 16s\tremaining: 1m 32s\n",
      "74:\tlearn: 0.0024779\ttotal: 16.3s\tremaining: 1m 32s\n",
      "75:\tlearn: 0.0024711\ttotal: 16.5s\tremaining: 1m 32s\n",
      "76:\tlearn: 0.0024679\ttotal: 16.8s\tremaining: 1m 32s\n",
      "77:\tlearn: 0.0024629\ttotal: 17s\tremaining: 1m 31s\n",
      "78:\tlearn: 0.0024590\ttotal: 17.2s\tremaining: 1m 31s\n",
      "79:\tlearn: 0.0024560\ttotal: 17.4s\tremaining: 1m 31s\n",
      "80:\tlearn: 0.0024532\ttotal: 17.6s\tremaining: 1m 31s\n",
      "81:\tlearn: 0.0024499\ttotal: 17.8s\tremaining: 1m 30s\n",
      "82:\tlearn: 0.0024431\ttotal: 18.1s\tremaining: 1m 30s\n",
      "83:\tlearn: 0.0024410\ttotal: 18.3s\tremaining: 1m 30s\n",
      "84:\tlearn: 0.0024377\ttotal: 18.5s\tremaining: 1m 30s\n",
      "85:\tlearn: 0.0024352\ttotal: 18.8s\tremaining: 1m 30s\n",
      "86:\tlearn: 0.0024330\ttotal: 19s\tremaining: 1m 30s\n",
      "87:\tlearn: 0.0024292\ttotal: 19.2s\tremaining: 1m 30s\n",
      "88:\tlearn: 0.0024270\ttotal: 19.5s\tremaining: 1m 29s\n",
      "89:\tlearn: 0.0024257\ttotal: 19.7s\tremaining: 1m 29s\n",
      "90:\tlearn: 0.0024250\ttotal: 19.9s\tremaining: 1m 29s\n",
      "91:\tlearn: 0.0024242\ttotal: 20.2s\tremaining: 1m 29s\n",
      "92:\tlearn: 0.0024170\ttotal: 20.4s\tremaining: 1m 29s\n",
      "93:\tlearn: 0.0024148\ttotal: 20.6s\tremaining: 1m 28s\n",
      "94:\tlearn: 0.0024139\ttotal: 20.8s\tremaining: 1m 28s\n",
      "95:\tlearn: 0.0024136\ttotal: 21s\tremaining: 1m 28s\n",
      "96:\tlearn: 0.0024129\ttotal: 21.3s\tremaining: 1m 28s\n",
      "97:\tlearn: 0.0024125\ttotal: 21.5s\tremaining: 1m 28s\n",
      "98:\tlearn: 0.0024079\ttotal: 21.7s\tremaining: 1m 27s\n",
      "99:\tlearn: 0.0024067\ttotal: 21.9s\tremaining: 1m 27s\n",
      "100:\tlearn: 0.0024060\ttotal: 22.1s\tremaining: 1m 27s\n",
      "101:\tlearn: 0.0024024\ttotal: 22.3s\tremaining: 1m 27s\n",
      "102:\tlearn: 0.0023979\ttotal: 22.6s\tremaining: 1m 26s\n",
      "103:\tlearn: 0.0023956\ttotal: 22.8s\tremaining: 1m 26s\n",
      "104:\tlearn: 0.0023953\ttotal: 23s\tremaining: 1m 26s\n",
      "105:\tlearn: 0.0023943\ttotal: 23.2s\tremaining: 1m 26s\n",
      "106:\tlearn: 0.0023926\ttotal: 23.5s\tremaining: 1m 26s\n",
      "107:\tlearn: 0.0023911\ttotal: 23.9s\tremaining: 1m 26s\n",
      "108:\tlearn: 0.0023888\ttotal: 24.1s\tremaining: 1m 26s\n",
      "109:\tlearn: 0.0023871\ttotal: 24.4s\tremaining: 1m 26s\n",
      "110:\tlearn: 0.0023862\ttotal: 24.6s\tremaining: 1m 26s\n",
      "111:\tlearn: 0.0023860\ttotal: 24.8s\tremaining: 1m 25s\n",
      "112:\tlearn: 0.0023854\ttotal: 25s\tremaining: 1m 25s\n",
      "113:\tlearn: 0.0023846\ttotal: 25.2s\tremaining: 1m 25s\n",
      "114:\tlearn: 0.0023844\ttotal: 25.4s\tremaining: 1m 25s\n",
      "115:\tlearn: 0.0023841\ttotal: 25.6s\tremaining: 1m 24s\n",
      "116:\tlearn: 0.0023831\ttotal: 25.8s\tremaining: 1m 24s\n",
      "117:\tlearn: 0.0023815\ttotal: 26s\tremaining: 1m 24s\n",
      "118:\tlearn: 0.0023790\ttotal: 26.2s\tremaining: 1m 23s\n",
      "119:\tlearn: 0.0023782\ttotal: 26.4s\tremaining: 1m 23s\n",
      "120:\tlearn: 0.0023779\ttotal: 26.5s\tremaining: 1m 23s\n",
      "121:\tlearn: 0.0023777\ttotal: 26.7s\tremaining: 1m 22s\n",
      "122:\tlearn: 0.0023749\ttotal: 26.9s\tremaining: 1m 22s\n",
      "123:\tlearn: 0.0023747\ttotal: 27.1s\tremaining: 1m 22s\n",
      "124:\tlearn: 0.0023723\ttotal: 27.3s\tremaining: 1m 21s\n",
      "125:\tlearn: 0.0023712\ttotal: 27.5s\tremaining: 1m 21s\n",
      "126:\tlearn: 0.0023686\ttotal: 27.7s\tremaining: 1m 21s\n",
      "127:\tlearn: 0.0023682\ttotal: 27.9s\tremaining: 1m 21s\n",
      "128:\tlearn: 0.0023669\ttotal: 28.1s\tremaining: 1m 20s\n",
      "129:\tlearn: 0.0023657\ttotal: 28.3s\tremaining: 1m 20s\n",
      "130:\tlearn: 0.0023647\ttotal: 28.5s\tremaining: 1m 20s\n",
      "131:\tlearn: 0.0023624\ttotal: 28.7s\tremaining: 1m 19s\n",
      "132:\tlearn: 0.0023621\ttotal: 28.9s\tremaining: 1m 19s\n",
      "133:\tlearn: 0.0023607\ttotal: 29.1s\tremaining: 1m 19s\n",
      "134:\tlearn: 0.0023604\ttotal: 29.3s\tremaining: 1m 19s\n",
      "135:\tlearn: 0.0023582\ttotal: 29.5s\tremaining: 1m 18s\n",
      "136:\tlearn: 0.0023579\ttotal: 29.7s\tremaining: 1m 18s\n",
      "137:\tlearn: 0.0023564\ttotal: 29.9s\tremaining: 1m 18s\n",
      "138:\tlearn: 0.0023562\ttotal: 30.1s\tremaining: 1m 18s\n",
      "139:\tlearn: 0.0023560\ttotal: 30.3s\tremaining: 1m 17s\n",
      "140:\tlearn: 0.0023558\ttotal: 30.5s\tremaining: 1m 17s\n",
      "141:\tlearn: 0.0023556\ttotal: 30.7s\tremaining: 1m 17s\n",
      "142:\tlearn: 0.0023547\ttotal: 30.9s\tremaining: 1m 17s\n",
      "143:\tlearn: 0.0023542\ttotal: 31.2s\tremaining: 1m 17s\n",
      "144:\tlearn: 0.0023540\ttotal: 31.3s\tremaining: 1m 16s\n",
      "145:\tlearn: 0.0023527\ttotal: 31.6s\tremaining: 1m 16s\n",
      "146:\tlearn: 0.0023508\ttotal: 31.8s\tremaining: 1m 16s\n",
      "147:\tlearn: 0.0023495\ttotal: 32s\tremaining: 1m 16s\n",
      "148:\tlearn: 0.0023481\ttotal: 32.3s\tremaining: 1m 16s\n",
      "149:\tlearn: 0.0023477\ttotal: 32.6s\tremaining: 1m 16s\n",
      "150:\tlearn: 0.0023474\ttotal: 32.8s\tremaining: 1m 15s\n",
      "151:\tlearn: 0.0023465\ttotal: 33.1s\tremaining: 1m 15s\n",
      "152:\tlearn: 0.0023461\ttotal: 33.3s\tremaining: 1m 15s\n",
      "153:\tlearn: 0.0023455\ttotal: 33.5s\tremaining: 1m 15s\n",
      "154:\tlearn: 0.0023453\ttotal: 33.7s\tremaining: 1m 15s\n",
      "155:\tlearn: 0.0023448\ttotal: 34s\tremaining: 1m 14s\n",
      "156:\tlearn: 0.0023446\ttotal: 34.2s\tremaining: 1m 14s\n",
      "157:\tlearn: 0.0023443\ttotal: 34.4s\tremaining: 1m 14s\n"
     ]
    },
    {
     "name": "stdout",
     "output_type": "stream",
     "text": [
      "158:\tlearn: 0.0023439\ttotal: 34.6s\tremaining: 1m 14s\n",
      "159:\tlearn: 0.0023436\ttotal: 34.8s\tremaining: 1m 13s\n",
      "160:\tlearn: 0.0023434\ttotal: 35s\tremaining: 1m 13s\n",
      "161:\tlearn: 0.0023433\ttotal: 35.2s\tremaining: 1m 13s\n",
      "162:\tlearn: 0.0023423\ttotal: 35.4s\tremaining: 1m 13s\n",
      "163:\tlearn: 0.0023420\ttotal: 35.7s\tremaining: 1m 13s\n",
      "164:\tlearn: 0.0023413\ttotal: 35.9s\tremaining: 1m 12s\n",
      "165:\tlearn: 0.0023407\ttotal: 36.1s\tremaining: 1m 12s\n",
      "166:\tlearn: 0.0023405\ttotal: 36.2s\tremaining: 1m 12s\n",
      "167:\tlearn: 0.0023391\ttotal: 36.4s\tremaining: 1m 11s\n",
      "168:\tlearn: 0.0023373\ttotal: 36.6s\tremaining: 1m 11s\n",
      "169:\tlearn: 0.0023354\ttotal: 36.9s\tremaining: 1m 11s\n",
      "170:\tlearn: 0.0023352\ttotal: 37.1s\tremaining: 1m 11s\n",
      "171:\tlearn: 0.0023347\ttotal: 37.3s\tremaining: 1m 11s\n",
      "172:\tlearn: 0.0023344\ttotal: 37.6s\tremaining: 1m 11s\n",
      "173:\tlearn: 0.0023326\ttotal: 37.8s\tremaining: 1m 10s\n",
      "174:\tlearn: 0.0023324\ttotal: 38s\tremaining: 1m 10s\n",
      "175:\tlearn: 0.0023315\ttotal: 38.2s\tremaining: 1m 10s\n",
      "176:\tlearn: 0.0023312\ttotal: 38.4s\tremaining: 1m 10s\n",
      "177:\tlearn: 0.0023306\ttotal: 38.6s\tremaining: 1m 9s\n",
      "178:\tlearn: 0.0023303\ttotal: 38.8s\tremaining: 1m 9s\n",
      "179:\tlearn: 0.0023292\ttotal: 39s\tremaining: 1m 9s\n",
      "180:\tlearn: 0.0023287\ttotal: 39.2s\tremaining: 1m 9s\n",
      "181:\tlearn: 0.0023273\ttotal: 39.5s\tremaining: 1m 8s\n",
      "182:\tlearn: 0.0023255\ttotal: 39.7s\tremaining: 1m 8s\n",
      "183:\tlearn: 0.0023250\ttotal: 39.9s\tremaining: 1m 8s\n",
      "184:\tlearn: 0.0023249\ttotal: 40.1s\tremaining: 1m 8s\n",
      "185:\tlearn: 0.0023244\ttotal: 40.6s\tremaining: 1m 8s\n",
      "186:\tlearn: 0.0023236\ttotal: 40.9s\tremaining: 1m 8s\n",
      "187:\tlearn: 0.0023235\ttotal: 41.2s\tremaining: 1m 8s\n",
      "188:\tlearn: 0.0023232\ttotal: 41.4s\tremaining: 1m 8s\n",
      "189:\tlearn: 0.0023222\ttotal: 41.6s\tremaining: 1m 7s\n",
      "190:\tlearn: 0.0023218\ttotal: 41.8s\tremaining: 1m 7s\n",
      "191:\tlearn: 0.0023216\ttotal: 42s\tremaining: 1m 7s\n",
      "192:\tlearn: 0.0023208\ttotal: 42.3s\tremaining: 1m 7s\n",
      "193:\tlearn: 0.0023206\ttotal: 42.5s\tremaining: 1m 7s\n",
      "194:\tlearn: 0.0023201\ttotal: 42.7s\tremaining: 1m 6s\n",
      "195:\tlearn: 0.0023199\ttotal: 42.9s\tremaining: 1m 6s\n",
      "196:\tlearn: 0.0023197\ttotal: 43.1s\tremaining: 1m 6s\n",
      "197:\tlearn: 0.0023188\ttotal: 43.3s\tremaining: 1m 6s\n",
      "198:\tlearn: 0.0023187\ttotal: 43.5s\tremaining: 1m 5s\n",
      "199:\tlearn: 0.0023184\ttotal: 43.7s\tremaining: 1m 5s\n",
      "200:\tlearn: 0.0023182\ttotal: 43.9s\tremaining: 1m 5s\n",
      "201:\tlearn: 0.0023180\ttotal: 44.1s\tremaining: 1m 5s\n",
      "202:\tlearn: 0.0023175\ttotal: 44.3s\tremaining: 1m 4s\n",
      "203:\tlearn: 0.0023173\ttotal: 44.4s\tremaining: 1m 4s\n",
      "204:\tlearn: 0.0023167\ttotal: 44.6s\tremaining: 1m 4s\n",
      "205:\tlearn: 0.0023164\ttotal: 44.8s\tremaining: 1m 3s\n",
      "206:\tlearn: 0.0023161\ttotal: 45s\tremaining: 1m 3s\n",
      "207:\tlearn: 0.0023159\ttotal: 45.2s\tremaining: 1m 3s\n",
      "208:\tlearn: 0.0023150\ttotal: 45.4s\tremaining: 1m 3s\n",
      "209:\tlearn: 0.0023136\ttotal: 45.7s\tremaining: 1m 3s\n",
      "210:\tlearn: 0.0023135\ttotal: 45.9s\tremaining: 1m 2s\n",
      "211:\tlearn: 0.0023110\ttotal: 46.1s\tremaining: 1m 2s\n",
      "212:\tlearn: 0.0023106\ttotal: 46.3s\tremaining: 1m 2s\n",
      "213:\tlearn: 0.0023101\ttotal: 46.5s\tremaining: 1m 2s\n",
      "214:\tlearn: 0.0023097\ttotal: 46.8s\tremaining: 1m 2s\n",
      "215:\tlearn: 0.0023096\ttotal: 47.1s\tremaining: 1m 1s\n",
      "216:\tlearn: 0.0023094\ttotal: 47.3s\tremaining: 1m 1s\n",
      "217:\tlearn: 0.0023082\ttotal: 47.8s\tremaining: 1m 1s\n",
      "218:\tlearn: 0.0023075\ttotal: 48.3s\tremaining: 1m 2s\n",
      "219:\tlearn: 0.0023073\ttotal: 48.6s\tremaining: 1m 1s\n",
      "220:\tlearn: 0.0023068\ttotal: 48.9s\tremaining: 1m 1s\n",
      "221:\tlearn: 0.0023065\ttotal: 49.1s\tremaining: 1m 1s\n",
      "222:\tlearn: 0.0023063\ttotal: 49.3s\tremaining: 1m 1s\n",
      "223:\tlearn: 0.0023061\ttotal: 49.5s\tremaining: 1m 1s\n",
      "224:\tlearn: 0.0023059\ttotal: 49.8s\tremaining: 1m\n",
      "225:\tlearn: 0.0023055\ttotal: 50s\tremaining: 1m\n",
      "226:\tlearn: 0.0023053\ttotal: 50.3s\tremaining: 1m\n",
      "227:\tlearn: 0.0023049\ttotal: 50.5s\tremaining: 1m\n",
      "228:\tlearn: 0.0023047\ttotal: 50.7s\tremaining: 1m\n",
      "229:\tlearn: 0.0023044\ttotal: 50.9s\tremaining: 59.8s\n",
      "230:\tlearn: 0.0023042\ttotal: 51.1s\tremaining: 59.5s\n",
      "231:\tlearn: 0.0023040\ttotal: 51.4s\tremaining: 59.3s\n",
      "232:\tlearn: 0.0023037\ttotal: 51.6s\tremaining: 59.1s\n",
      "233:\tlearn: 0.0023034\ttotal: 51.8s\tremaining: 58.9s\n",
      "234:\tlearn: 0.0023033\ttotal: 52.1s\tremaining: 58.7s\n",
      "235:\tlearn: 0.0023030\ttotal: 52.3s\tremaining: 58.5s\n",
      "236:\tlearn: 0.0023027\ttotal: 52.6s\tremaining: 58.4s\n",
      "237:\tlearn: 0.0023025\ttotal: 52.9s\tremaining: 58.2s\n",
      "238:\tlearn: 0.0023023\ttotal: 53.1s\tremaining: 58s\n",
      "239:\tlearn: 0.0023014\ttotal: 53.3s\tremaining: 57.8s\n",
      "240:\tlearn: 0.0023012\ttotal: 53.6s\tremaining: 57.6s\n",
      "241:\tlearn: 0.0023010\ttotal: 53.8s\tremaining: 57.4s\n",
      "242:\tlearn: 0.0023009\ttotal: 54s\tremaining: 57.1s\n",
      "243:\tlearn: 0.0023007\ttotal: 54.3s\tremaining: 56.9s\n",
      "244:\tlearn: 0.0022998\ttotal: 54.5s\tremaining: 56.7s\n",
      "245:\tlearn: 0.0022993\ttotal: 54.7s\tremaining: 56.5s\n",
      "246:\tlearn: 0.0022992\ttotal: 54.9s\tremaining: 56.3s\n",
      "247:\tlearn: 0.0022990\ttotal: 55.1s\tremaining: 56s\n",
      "248:\tlearn: 0.0022990\ttotal: 55.4s\tremaining: 55.8s\n",
      "249:\tlearn: 0.0022985\ttotal: 55.6s\tremaining: 55.6s\n",
      "250:\tlearn: 0.0022984\ttotal: 55.8s\tremaining: 55.3s\n",
      "251:\tlearn: 0.0022982\ttotal: 55.9s\tremaining: 55.1s\n",
      "252:\tlearn: 0.0022979\ttotal: 56.1s\tremaining: 54.8s\n",
      "253:\tlearn: 0.0022977\ttotal: 56.3s\tremaining: 54.5s\n",
      "254:\tlearn: 0.0022976\ttotal: 56.5s\tremaining: 54.3s\n",
      "255:\tlearn: 0.0022973\ttotal: 56.7s\tremaining: 54s\n",
      "256:\tlearn: 0.0022971\ttotal: 56.9s\tremaining: 53.8s\n",
      "257:\tlearn: 0.0022969\ttotal: 57.1s\tremaining: 53.6s\n",
      "258:\tlearn: 0.0022967\ttotal: 57.3s\tremaining: 53.3s\n",
      "259:\tlearn: 0.0022966\ttotal: 57.5s\tremaining: 53.1s\n",
      "260:\tlearn: 0.0022962\ttotal: 57.7s\tremaining: 52.8s\n",
      "261:\tlearn: 0.0022961\ttotal: 57.9s\tremaining: 52.6s\n",
      "262:\tlearn: 0.0022960\ttotal: 58.1s\tremaining: 52.4s\n",
      "263:\tlearn: 0.0022958\ttotal: 58.3s\tremaining: 52.1s\n",
      "264:\tlearn: 0.0022958\ttotal: 58.5s\tremaining: 51.9s\n",
      "265:\tlearn: 0.0022955\ttotal: 58.7s\tremaining: 51.6s\n",
      "266:\tlearn: 0.0022954\ttotal: 58.9s\tremaining: 51.4s\n",
      "267:\tlearn: 0.0022950\ttotal: 59.1s\tremaining: 51.1s\n",
      "268:\tlearn: 0.0022947\ttotal: 59.3s\tremaining: 50.9s\n",
      "269:\tlearn: 0.0022944\ttotal: 59.5s\tremaining: 50.7s\n",
      "270:\tlearn: 0.0022942\ttotal: 59.7s\tremaining: 50.5s\n",
      "271:\tlearn: 0.0022941\ttotal: 59.9s\tremaining: 50.2s\n",
      "272:\tlearn: 0.0022939\ttotal: 1m\tremaining: 50s\n",
      "273:\tlearn: 0.0022936\ttotal: 1m\tremaining: 49.8s\n",
      "274:\tlearn: 0.0022934\ttotal: 1m\tremaining: 49.5s\n",
      "275:\tlearn: 0.0022932\ttotal: 1m\tremaining: 49.3s\n",
      "276:\tlearn: 0.0022930\ttotal: 1m\tremaining: 49.1s\n",
      "277:\tlearn: 0.0022927\ttotal: 1m 1s\tremaining: 48.8s\n",
      "278:\tlearn: 0.0022923\ttotal: 1m 1s\tremaining: 48.6s\n",
      "279:\tlearn: 0.0022920\ttotal: 1m 1s\tremaining: 48.4s\n",
      "280:\tlearn: 0.0022919\ttotal: 1m 1s\tremaining: 48.1s\n",
      "281:\tlearn: 0.0022918\ttotal: 1m 1s\tremaining: 47.9s\n",
      "282:\tlearn: 0.0022913\ttotal: 1m 2s\tremaining: 47.7s\n",
      "283:\tlearn: 0.0022911\ttotal: 1m 2s\tremaining: 47.4s\n",
      "284:\tlearn: 0.0022909\ttotal: 1m 2s\tremaining: 47.2s\n",
      "285:\tlearn: 0.0022907\ttotal: 1m 2s\tremaining: 47s\n",
      "286:\tlearn: 0.0022903\ttotal: 1m 2s\tremaining: 46.7s\n",
      "287:\tlearn: 0.0022902\ttotal: 1m 3s\tremaining: 46.5s\n",
      "288:\tlearn: 0.0022901\ttotal: 1m 3s\tremaining: 46.3s\n",
      "289:\tlearn: 0.0022900\ttotal: 1m 3s\tremaining: 46s\n",
      "290:\tlearn: 0.0022897\ttotal: 1m 3s\tremaining: 45.8s\n",
      "291:\tlearn: 0.0022894\ttotal: 1m 3s\tremaining: 45.5s\n",
      "292:\tlearn: 0.0022893\ttotal: 1m 4s\tremaining: 45.3s\n",
      "293:\tlearn: 0.0022892\ttotal: 1m 4s\tremaining: 45.1s\n",
      "294:\tlearn: 0.0022890\ttotal: 1m 4s\tremaining: 44.9s\n",
      "295:\tlearn: 0.0022888\ttotal: 1m 4s\tremaining: 44.7s\n",
      "296:\tlearn: 0.0022887\ttotal: 1m 5s\tremaining: 44.4s\n",
      "297:\tlearn: 0.0022879\ttotal: 1m 5s\tremaining: 44.2s\n",
      "298:\tlearn: 0.0022877\ttotal: 1m 5s\tremaining: 44s\n",
      "299:\tlearn: 0.0022875\ttotal: 1m 5s\tremaining: 43.8s\n",
      "300:\tlearn: 0.0022872\ttotal: 1m 5s\tremaining: 43.5s\n",
      "301:\tlearn: 0.0022868\ttotal: 1m 6s\tremaining: 43.3s\n",
      "302:\tlearn: 0.0022866\ttotal: 1m 6s\tremaining: 43.1s\n",
      "303:\tlearn: 0.0022864\ttotal: 1m 6s\tremaining: 42.9s\n",
      "304:\tlearn: 0.0022864\ttotal: 1m 6s\tremaining: 42.7s\n",
      "305:\tlearn: 0.0022863\ttotal: 1m 7s\tremaining: 42.5s\n",
      "306:\tlearn: 0.0022850\ttotal: 1m 7s\tremaining: 42.3s\n",
      "307:\tlearn: 0.0022842\ttotal: 1m 7s\tremaining: 42.1s\n",
      "308:\tlearn: 0.0022839\ttotal: 1m 7s\tremaining: 41.9s\n",
      "309:\tlearn: 0.0022838\ttotal: 1m 8s\tremaining: 41.7s\n",
      "310:\tlearn: 0.0022837\ttotal: 1m 8s\tremaining: 41.5s\n",
      "311:\tlearn: 0.0022835\ttotal: 1m 8s\tremaining: 41.3s\n",
      "312:\tlearn: 0.0022829\ttotal: 1m 8s\tremaining: 41s\n",
      "313:\tlearn: 0.0022827\ttotal: 1m 8s\tremaining: 40.8s\n",
      "314:\tlearn: 0.0022825\ttotal: 1m 9s\tremaining: 40.6s\n",
      "315:\tlearn: 0.0022823\ttotal: 1m 9s\tremaining: 40.4s\n",
      "316:\tlearn: 0.0022821\ttotal: 1m 9s\tremaining: 40.1s\n"
     ]
    },
    {
     "name": "stdout",
     "output_type": "stream",
     "text": [
      "317:\tlearn: 0.0022820\ttotal: 1m 9s\tremaining: 39.9s\n",
      "318:\tlearn: 0.0022818\ttotal: 1m 9s\tremaining: 39.7s\n",
      "319:\tlearn: 0.0022815\ttotal: 1m 10s\tremaining: 39.4s\n",
      "320:\tlearn: 0.0022813\ttotal: 1m 10s\tremaining: 39.3s\n",
      "321:\tlearn: 0.0022811\ttotal: 1m 10s\tremaining: 39.1s\n",
      "322:\tlearn: 0.0022809\ttotal: 1m 10s\tremaining: 38.9s\n",
      "323:\tlearn: 0.0022808\ttotal: 1m 11s\tremaining: 38.6s\n",
      "324:\tlearn: 0.0022806\ttotal: 1m 11s\tremaining: 38.4s\n",
      "325:\tlearn: 0.0022805\ttotal: 1m 11s\tremaining: 38.2s\n",
      "326:\tlearn: 0.0022802\ttotal: 1m 11s\tremaining: 38s\n",
      "327:\tlearn: 0.0022800\ttotal: 1m 12s\tremaining: 38.3s\n",
      "328:\tlearn: 0.0022798\ttotal: 1m 13s\tremaining: 38.1s\n",
      "329:\tlearn: 0.0022796\ttotal: 1m 13s\tremaining: 37.9s\n",
      "330:\tlearn: 0.0022794\ttotal: 1m 13s\tremaining: 37.7s\n",
      "331:\tlearn: 0.0022792\ttotal: 1m 14s\tremaining: 37.5s\n",
      "332:\tlearn: 0.0022791\ttotal: 1m 14s\tremaining: 37.2s\n",
      "333:\tlearn: 0.0022789\ttotal: 1m 14s\tremaining: 37s\n",
      "334:\tlearn: 0.0022786\ttotal: 1m 15s\tremaining: 37s\n",
      "335:\tlearn: 0.0022784\ttotal: 1m 15s\tremaining: 37s\n",
      "336:\tlearn: 0.0022780\ttotal: 1m 16s\tremaining: 36.8s\n",
      "337:\tlearn: 0.0022779\ttotal: 1m 16s\tremaining: 36.6s\n",
      "338:\tlearn: 0.0022778\ttotal: 1m 16s\tremaining: 36.4s\n",
      "339:\tlearn: 0.0022776\ttotal: 1m 16s\tremaining: 36.2s\n",
      "340:\tlearn: 0.0022774\ttotal: 1m 17s\tremaining: 36s\n",
      "341:\tlearn: 0.0022774\ttotal: 1m 17s\tremaining: 35.8s\n",
      "342:\tlearn: 0.0022771\ttotal: 1m 18s\tremaining: 35.8s\n",
      "343:\tlearn: 0.0022767\ttotal: 1m 18s\tremaining: 35.6s\n",
      "344:\tlearn: 0.0022766\ttotal: 1m 19s\tremaining: 35.6s\n",
      "345:\tlearn: 0.0022763\ttotal: 1m 19s\tremaining: 35.4s\n",
      "346:\tlearn: 0.0022761\ttotal: 1m 19s\tremaining: 35.2s\n",
      "347:\tlearn: 0.0022759\ttotal: 1m 20s\tremaining: 35.1s\n",
      "348:\tlearn: 0.0022758\ttotal: 1m 20s\tremaining: 35s\n",
      "349:\tlearn: 0.0022758\ttotal: 1m 21s\tremaining: 34.7s\n",
      "350:\tlearn: 0.0022757\ttotal: 1m 21s\tremaining: 34.6s\n",
      "351:\tlearn: 0.0022745\ttotal: 1m 21s\tremaining: 34.4s\n",
      "352:\tlearn: 0.0022744\ttotal: 1m 21s\tremaining: 34.1s\n",
      "353:\tlearn: 0.0022743\ttotal: 1m 23s\tremaining: 34.3s\n",
      "354:\tlearn: 0.0022741\ttotal: 1m 24s\tremaining: 34.3s\n",
      "355:\tlearn: 0.0022739\ttotal: 1m 24s\tremaining: 34.1s\n",
      "356:\tlearn: 0.0022738\ttotal: 1m 24s\tremaining: 34s\n",
      "357:\tlearn: 0.0022737\ttotal: 1m 25s\tremaining: 33.8s\n",
      "358:\tlearn: 0.0022735\ttotal: 1m 25s\tremaining: 33.6s\n",
      "359:\tlearn: 0.0022733\ttotal: 1m 25s\tremaining: 33.3s\n",
      "360:\tlearn: 0.0022732\ttotal: 1m 25s\tremaining: 33.1s\n",
      "361:\tlearn: 0.0022731\ttotal: 1m 26s\tremaining: 32.9s\n",
      "362:\tlearn: 0.0022729\ttotal: 1m 26s\tremaining: 32.7s\n",
      "363:\tlearn: 0.0022726\ttotal: 1m 26s\tremaining: 32.5s\n",
      "364:\tlearn: 0.0022725\ttotal: 1m 27s\tremaining: 32.4s\n",
      "365:\tlearn: 0.0022723\ttotal: 1m 27s\tremaining: 32.2s\n",
      "366:\tlearn: 0.0022722\ttotal: 1m 28s\tremaining: 32s\n",
      "367:\tlearn: 0.0022715\ttotal: 1m 28s\tremaining: 31.8s\n",
      "368:\tlearn: 0.0022713\ttotal: 1m 28s\tremaining: 31.6s\n",
      "369:\tlearn: 0.0022704\ttotal: 1m 29s\tremaining: 31.4s\n",
      "370:\tlearn: 0.0022703\ttotal: 1m 29s\tremaining: 31.1s\n",
      "371:\tlearn: 0.0022702\ttotal: 1m 29s\tremaining: 30.9s\n",
      "372:\tlearn: 0.0022701\ttotal: 1m 30s\tremaining: 30.7s\n",
      "373:\tlearn: 0.0022699\ttotal: 1m 30s\tremaining: 30.4s\n",
      "374:\tlearn: 0.0022697\ttotal: 1m 30s\tremaining: 30.2s\n",
      "375:\tlearn: 0.0022696\ttotal: 1m 30s\tremaining: 29.9s\n",
      "376:\tlearn: 0.0022695\ttotal: 1m 30s\tremaining: 29.7s\n",
      "377:\tlearn: 0.0022692\ttotal: 1m 31s\tremaining: 29.4s\n",
      "378:\tlearn: 0.0022691\ttotal: 1m 31s\tremaining: 29.2s\n",
      "379:\tlearn: 0.0022690\ttotal: 1m 31s\tremaining: 29s\n",
      "380:\tlearn: 0.0022688\ttotal: 1m 31s\tremaining: 28.7s\n",
      "381:\tlearn: 0.0022688\ttotal: 1m 32s\tremaining: 28.5s\n",
      "382:\tlearn: 0.0022686\ttotal: 1m 32s\tremaining: 28.2s\n",
      "383:\tlearn: 0.0022684\ttotal: 1m 32s\tremaining: 28s\n",
      "384:\tlearn: 0.0022682\ttotal: 1m 32s\tremaining: 27.7s\n",
      "385:\tlearn: 0.0022681\ttotal: 1m 32s\tremaining: 27.5s\n",
      "386:\tlearn: 0.0022680\ttotal: 1m 33s\tremaining: 27.2s\n",
      "387:\tlearn: 0.0022679\ttotal: 1m 33s\tremaining: 27s\n",
      "388:\tlearn: 0.0022677\ttotal: 1m 33s\tremaining: 26.7s\n",
      "389:\tlearn: 0.0022675\ttotal: 1m 33s\tremaining: 26.5s\n",
      "390:\tlearn: 0.0022672\ttotal: 1m 34s\tremaining: 26.2s\n",
      "391:\tlearn: 0.0022671\ttotal: 1m 34s\tremaining: 26s\n",
      "392:\tlearn: 0.0022667\ttotal: 1m 34s\tremaining: 25.8s\n",
      "393:\tlearn: 0.0022666\ttotal: 1m 34s\tremaining: 25.5s\n",
      "394:\tlearn: 0.0022665\ttotal: 1m 35s\tremaining: 25.3s\n",
      "395:\tlearn: 0.0022663\ttotal: 1m 35s\tremaining: 25s\n",
      "396:\tlearn: 0.0022661\ttotal: 1m 35s\tremaining: 24.8s\n",
      "397:\tlearn: 0.0022661\ttotal: 1m 35s\tremaining: 24.5s\n",
      "398:\tlearn: 0.0022659\ttotal: 1m 35s\tremaining: 24.3s\n",
      "399:\tlearn: 0.0022656\ttotal: 1m 36s\tremaining: 24s\n",
      "400:\tlearn: 0.0022654\ttotal: 1m 36s\tremaining: 23.8s\n",
      "401:\tlearn: 0.0022653\ttotal: 1m 36s\tremaining: 23.5s\n",
      "402:\tlearn: 0.0022652\ttotal: 1m 36s\tremaining: 23.3s\n",
      "403:\tlearn: 0.0022651\ttotal: 1m 37s\tremaining: 23.1s\n",
      "404:\tlearn: 0.0022647\ttotal: 1m 37s\tremaining: 22.8s\n",
      "405:\tlearn: 0.0022646\ttotal: 1m 37s\tremaining: 22.6s\n",
      "406:\tlearn: 0.0022645\ttotal: 1m 37s\tremaining: 22.3s\n",
      "407:\tlearn: 0.0022645\ttotal: 1m 37s\tremaining: 22.1s\n",
      "408:\tlearn: 0.0022644\ttotal: 1m 38s\tremaining: 21.8s\n",
      "409:\tlearn: 0.0022641\ttotal: 1m 38s\tremaining: 21.6s\n",
      "410:\tlearn: 0.0022641\ttotal: 1m 38s\tremaining: 21.3s\n",
      "411:\tlearn: 0.0022639\ttotal: 1m 38s\tremaining: 21.1s\n",
      "412:\tlearn: 0.0022635\ttotal: 1m 38s\tremaining: 20.9s\n",
      "413:\tlearn: 0.0022632\ttotal: 1m 39s\tremaining: 20.6s\n",
      "414:\tlearn: 0.0022631\ttotal: 1m 39s\tremaining: 20.4s\n",
      "415:\tlearn: 0.0022631\ttotal: 1m 39s\tremaining: 20.1s\n",
      "416:\tlearn: 0.0022629\ttotal: 1m 39s\tremaining: 19.9s\n",
      "417:\tlearn: 0.0022627\ttotal: 1m 40s\tremaining: 19.6s\n",
      "418:\tlearn: 0.0022625\ttotal: 1m 40s\tremaining: 19.4s\n",
      "419:\tlearn: 0.0022625\ttotal: 1m 40s\tremaining: 19.1s\n",
      "420:\tlearn: 0.0022624\ttotal: 1m 40s\tremaining: 18.9s\n",
      "421:\tlearn: 0.0022622\ttotal: 1m 40s\tremaining: 18.7s\n",
      "422:\tlearn: 0.0022620\ttotal: 1m 41s\tremaining: 18.4s\n",
      "423:\tlearn: 0.0022618\ttotal: 1m 41s\tremaining: 18.2s\n",
      "424:\tlearn: 0.0022616\ttotal: 1m 41s\tremaining: 17.9s\n",
      "425:\tlearn: 0.0022614\ttotal: 1m 41s\tremaining: 17.7s\n",
      "426:\tlearn: 0.0022613\ttotal: 1m 42s\tremaining: 17.5s\n",
      "427:\tlearn: 0.0022610\ttotal: 1m 42s\tremaining: 17.2s\n",
      "428:\tlearn: 0.0022609\ttotal: 1m 42s\tremaining: 17s\n",
      "429:\tlearn: 0.0022607\ttotal: 1m 42s\tremaining: 16.7s\n",
      "430:\tlearn: 0.0022606\ttotal: 1m 43s\tremaining: 16.5s\n",
      "431:\tlearn: 0.0022605\ttotal: 1m 43s\tremaining: 16.2s\n",
      "432:\tlearn: 0.0022604\ttotal: 1m 43s\tremaining: 16s\n",
      "433:\tlearn: 0.0022602\ttotal: 1m 43s\tremaining: 15.8s\n",
      "434:\tlearn: 0.0022596\ttotal: 1m 43s\tremaining: 15.5s\n",
      "435:\tlearn: 0.0022594\ttotal: 1m 44s\tremaining: 15.3s\n",
      "436:\tlearn: 0.0022593\ttotal: 1m 44s\tremaining: 15s\n",
      "437:\tlearn: 0.0022591\ttotal: 1m 44s\tremaining: 14.8s\n",
      "438:\tlearn: 0.0022589\ttotal: 1m 44s\tremaining: 14.6s\n",
      "439:\tlearn: 0.0022588\ttotal: 1m 44s\tremaining: 14.3s\n",
      "440:\tlearn: 0.0022587\ttotal: 1m 45s\tremaining: 14.1s\n",
      "441:\tlearn: 0.0022586\ttotal: 1m 45s\tremaining: 13.8s\n",
      "442:\tlearn: 0.0022585\ttotal: 1m 45s\tremaining: 13.6s\n",
      "443:\tlearn: 0.0022584\ttotal: 1m 45s\tremaining: 13.3s\n",
      "444:\tlearn: 0.0022584\ttotal: 1m 46s\tremaining: 13.1s\n",
      "445:\tlearn: 0.0022583\ttotal: 1m 46s\tremaining: 12.9s\n",
      "446:\tlearn: 0.0022580\ttotal: 1m 46s\tremaining: 12.6s\n",
      "447:\tlearn: 0.0022576\ttotal: 1m 46s\tremaining: 12.4s\n",
      "448:\tlearn: 0.0022574\ttotal: 1m 46s\tremaining: 12.1s\n",
      "449:\tlearn: 0.0022571\ttotal: 1m 47s\tremaining: 11.9s\n",
      "450:\tlearn: 0.0022567\ttotal: 1m 47s\tremaining: 11.7s\n",
      "451:\tlearn: 0.0022565\ttotal: 1m 47s\tremaining: 11.4s\n",
      "452:\tlearn: 0.0022565\ttotal: 1m 47s\tremaining: 11.2s\n",
      "453:\tlearn: 0.0022562\ttotal: 1m 47s\tremaining: 10.9s\n",
      "454:\tlearn: 0.0022561\ttotal: 1m 48s\tremaining: 10.7s\n",
      "455:\tlearn: 0.0022559\ttotal: 1m 48s\tremaining: 10.5s\n",
      "456:\tlearn: 0.0022557\ttotal: 1m 48s\tremaining: 10.2s\n",
      "457:\tlearn: 0.0022556\ttotal: 1m 48s\tremaining: 9.97s\n",
      "458:\tlearn: 0.0022555\ttotal: 1m 48s\tremaining: 9.73s\n",
      "459:\tlearn: 0.0022554\ttotal: 1m 49s\tremaining: 9.5s\n",
      "460:\tlearn: 0.0022552\ttotal: 1m 49s\tremaining: 9.26s\n",
      "461:\tlearn: 0.0022549\ttotal: 1m 49s\tremaining: 9.02s\n",
      "462:\tlearn: 0.0022547\ttotal: 1m 49s\tremaining: 8.78s\n",
      "463:\tlearn: 0.0022545\ttotal: 1m 50s\tremaining: 8.54s\n",
      "464:\tlearn: 0.0022545\ttotal: 1m 50s\tremaining: 8.3s\n",
      "465:\tlearn: 0.0022543\ttotal: 1m 50s\tremaining: 8.06s\n",
      "466:\tlearn: 0.0022540\ttotal: 1m 50s\tremaining: 7.82s\n",
      "467:\tlearn: 0.0022538\ttotal: 1m 50s\tremaining: 7.58s\n",
      "468:\tlearn: 0.0022538\ttotal: 1m 51s\tremaining: 7.34s\n",
      "469:\tlearn: 0.0022535\ttotal: 1m 51s\tremaining: 7.1s\n",
      "470:\tlearn: 0.0022534\ttotal: 1m 51s\tremaining: 6.87s\n",
      "471:\tlearn: 0.0022532\ttotal: 1m 51s\tremaining: 6.63s\n",
      "472:\tlearn: 0.0022529\ttotal: 1m 51s\tremaining: 6.39s\n",
      "473:\tlearn: 0.0022528\ttotal: 1m 52s\tremaining: 6.15s\n"
     ]
    },
    {
     "name": "stdout",
     "output_type": "stream",
     "text": [
      "474:\tlearn: 0.0022527\ttotal: 1m 52s\tremaining: 5.91s\n",
      "475:\tlearn: 0.0022525\ttotal: 1m 52s\tremaining: 5.68s\n",
      "476:\tlearn: 0.0022525\ttotal: 1m 52s\tremaining: 5.44s\n",
      "477:\tlearn: 0.0022524\ttotal: 1m 53s\tremaining: 5.2s\n",
      "478:\tlearn: 0.0022523\ttotal: 1m 53s\tremaining: 4.96s\n",
      "479:\tlearn: 0.0022522\ttotal: 1m 53s\tremaining: 4.72s\n",
      "480:\tlearn: 0.0022520\ttotal: 1m 53s\tremaining: 4.49s\n",
      "481:\tlearn: 0.0022518\ttotal: 1m 53s\tremaining: 4.25s\n",
      "482:\tlearn: 0.0022517\ttotal: 1m 54s\tremaining: 4.01s\n",
      "483:\tlearn: 0.0022515\ttotal: 1m 54s\tremaining: 3.78s\n",
      "484:\tlearn: 0.0022513\ttotal: 1m 54s\tremaining: 3.54s\n",
      "485:\tlearn: 0.0022512\ttotal: 1m 54s\tremaining: 3.3s\n",
      "486:\tlearn: 0.0022510\ttotal: 1m 54s\tremaining: 3.07s\n",
      "487:\tlearn: 0.0022507\ttotal: 1m 55s\tremaining: 2.83s\n",
      "488:\tlearn: 0.0022506\ttotal: 1m 55s\tremaining: 2.59s\n",
      "489:\tlearn: 0.0022505\ttotal: 1m 55s\tremaining: 2.36s\n",
      "490:\tlearn: 0.0022505\ttotal: 1m 55s\tremaining: 2.12s\n",
      "491:\tlearn: 0.0022504\ttotal: 1m 55s\tremaining: 1.88s\n",
      "492:\tlearn: 0.0022501\ttotal: 1m 56s\tremaining: 1.65s\n",
      "493:\tlearn: 0.0022499\ttotal: 1m 56s\tremaining: 1.41s\n",
      "494:\tlearn: 0.0022497\ttotal: 1m 56s\tremaining: 1.18s\n",
      "495:\tlearn: 0.0022495\ttotal: 1m 56s\tremaining: 942ms\n",
      "496:\tlearn: 0.0022494\ttotal: 1m 56s\tremaining: 706ms\n",
      "497:\tlearn: 0.0022494\ttotal: 1m 57s\tremaining: 471ms\n",
      "498:\tlearn: 0.0022492\ttotal: 1m 57s\tremaining: 235ms\n",
      "499:\tlearn: 0.0022488\ttotal: 1m 57s\tremaining: 0us\n"
     ]
    }
   ],
   "source": [
    "from catboost import CatBoostClassifier\n",
    "\n",
    "# Create a CatBoost classifier\n",
    "catboost_model = CatBoostClassifier(\n",
    "    iterations=500,  # Equivalent to n_estimators\n",
    "    depth=5,          # Equivalent to max_depth\n",
    "    learning_rate=0.0625,\n",
    ")\n",
    "\n",
    "catboost_model.fit(X_train, Y_train)\n",
    "\n",
    "y_pred_catboost = catboost_model.predict(X_test)"
   ]
  },
  {
   "cell_type": "code",
   "execution_count": 135,
   "id": "777c3b60",
   "metadata": {},
   "outputs": [
    {
     "data": {
      "text/plain": [
       "99.89589194388475"
      ]
     },
     "execution_count": 135,
     "metadata": {},
     "output_type": "execute_result"
    }
   ],
   "source": [
    "accuracy_CatBoost = accuracy_score(Y_test, y_pred_catboost)\n",
    "accuracy_CatBoost_score = accuracy_Ada * 100\n",
    "accuracy_CatBoost_score"
   ]
  },
  {
   "cell_type": "markdown",
   "id": "ca60799c",
   "metadata": {},
   "source": [
    "Checking performances"
   ]
  },
  {
   "cell_type": "code",
   "execution_count": 141,
   "id": "6fa057d6",
   "metadata": {},
   "outputs": [
    {
     "name": "stdout",
     "output_type": "stream",
     "text": [
      "Precision: 0.9686457638425617\n",
      "Recall: 0.7100244498777506\n"
     ]
    }
   ],
   "source": [
    "from sklearn.metrics import precision_score, recall_score, confusion_matrix\n",
    "\n",
    "y_pred = xgb_model.predict(X_test)\n",
    "\n",
    "conf_matrix = confusion_matrix(Y_test, y_pred)\n",
    "\n",
    "TP = conf_matrix[1][1]\n",
    "FP = conf_matrix[0][1]\n",
    "FN = conf_matrix[1][0]\n",
    "\n",
    "precision = TP / (TP + FP)\n",
    "recall = TP / (TP + FN)\n",
    "\n",
    "print(\"Precision:\", precision)\n",
    "print(\"Recall:\", recall)"
   ]
  },
  {
   "cell_type": "code",
   "execution_count": 143,
   "id": "001d025c",
   "metadata": {},
   "outputs": [
    {
     "name": "stdout",
     "output_type": "stream",
     "text": [
      "Precision: 0.9974424552429667\n",
      "Recall: 0.19070904645476772\n"
     ]
    }
   ],
   "source": [
    "y_pred = Ada_model.predict(X_test)\n",
    "\n",
    "conf_matrix = confusion_matrix(Y_test, y_pred)\n",
    "\n",
    "TP = conf_matrix[1][1]\n",
    "FP = conf_matrix[0][1]\n",
    "FN = conf_matrix[1][0]\n",
    "\n",
    "precision = TP / (TP + FP)\n",
    "recall = TP / (TP + FN)\n",
    "\n",
    "print(\"Precision:\", precision)\n",
    "print(\"Recall:\", recall)"
   ]
  },
  {
   "cell_type": "code",
   "execution_count": 144,
   "id": "2718da0d",
   "metadata": {},
   "outputs": [
    {
     "name": "stdout",
     "output_type": "stream",
     "text": [
      "Precision: 0.9275641025641026\n",
      "Recall: 0.7075794621026895\n"
     ]
    }
   ],
   "source": [
    "y_pred = Gb_model.predict(X_test)\n",
    "\n",
    "conf_matrix = confusion_matrix(Y_test, y_pred)\n",
    "\n",
    "TP = conf_matrix[1][1]\n",
    "FP = conf_matrix[0][1]\n",
    "FN = conf_matrix[1][0]\n",
    "\n",
    "precision = TP / (TP + FP)\n",
    "recall = TP / (TP + FN)\n",
    "\n",
    "print(\"Precision:\", precision)\n",
    "print(\"Recall:\", recall)"
   ]
  },
  {
   "cell_type": "code",
   "execution_count": 145,
   "id": "839e7afc",
   "metadata": {},
   "outputs": [
    {
     "name": "stdout",
     "output_type": "stream",
     "text": [
      "Precision: 0.9421157684630739\n",
      "Recall: 0.6924205378973105\n"
     ]
    }
   ],
   "source": [
    "y_pred = catboost_model.predict(X_test)\n",
    "\n",
    "conf_matrix = confusion_matrix(Y_test, y_pred)\n",
    "\n",
    "TP = conf_matrix[1][1]\n",
    "FP = conf_matrix[0][1]\n",
    "FN = conf_matrix[1][0]\n",
    "\n",
    "precision = TP / (TP + FP)\n",
    "recall = TP / (TP + FN)\n",
    "\n",
    "print(\"Precision:\", precision)\n",
    "print(\"Recall:\", recall)"
   ]
  },
  {
   "cell_type": "markdown",
   "id": "3f21a1f3",
   "metadata": {},
   "source": [
    "The best overall performance is from the XGBoost as expected"
   ]
  }
 ],
 "metadata": {
  "kernelspec": {
   "display_name": "Python 3 (ipykernel)",
   "language": "python",
   "name": "python3"
  },
  "language_info": {
   "codemirror_mode": {
    "name": "ipython",
    "version": 3
   },
   "file_extension": ".py",
   "mimetype": "text/x-python",
   "name": "python",
   "nbconvert_exporter": "python",
   "pygments_lexer": "ipython3",
   "version": "3.10.9"
  }
 },
 "nbformat": 4,
 "nbformat_minor": 5
}
